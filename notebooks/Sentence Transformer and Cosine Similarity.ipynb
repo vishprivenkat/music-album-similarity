{
 "cells": [
  {
   "cell_type": "markdown",
   "metadata": {},
   "source": [
    "# Pairwise Query Similarity with Jaccard Similarity\n",
    "\n",
    "The aim of this experiment is to find similar descriptions from the pool of descriptions present to the given input. This can be achieved in many ways and the main four ways experimented here are: \n",
    "\n",
    "        - Calculating Jaccard Similarity between entity classes. \n",
    "        - Using Word2Vec embeddings and Cosine similarity between descriptions \n",
    "        - Using sentence transformers for the caluclation of similarities. \n",
    "\n",
    "- This notebook in particular deals with <b> Calculating Cosine Similarity using sentence transformers.</b> \n",
    "\n",
    "- It also contains the description about how many top 3 similar queries have the same decade and author. <b>(Task for the DSTrack)</b>\n",
    "\n",
    "- There is also a runtime measurement that has been done with respect to these queries. \n",
    "\n",
    "\n",
    "\n",
    "\n",
    "\n"
   ]
  },
  {
   "cell_type": "markdown",
   "metadata": {},
   "source": [
    "Importing Libraries necessary"
   ]
  },
  {
   "cell_type": "code",
   "execution_count": 1,
   "metadata": {},
   "outputs": [],
   "source": [
    "import pandas as pd \n",
    "import numpy as np \n",
    "import matplotlib.pyplot as plt \n",
    "\n",
    "import pickle \n",
    "import time\n",
    "import seaborn as sns\n",
    "\n",
    "from nltk.tokenize import word_tokenize \n",
    "\n",
    "from scipy.spatial import distance"
   ]
  },
  {
   "cell_type": "markdown",
   "metadata": {},
   "source": [
    "### The Dataset\n",
    "\n",
    "The Different Attributes in the dataset are: \n",
    "- id : text \n",
    "- Artist : text \n",
    "- Album : text \n",
    "- Decade : text \n",
    "- Sales_total : number \n",
    "- Sales_US : number\n",
    "- <b>Description : Text</b>"
   ]
  },
  {
   "cell_type": "code",
   "execution_count": 2,
   "metadata": {},
   "outputs": [
    {
     "data": {
      "text/html": [
       "<div>\n",
       "<style scoped>\n",
       "    .dataframe tbody tr th:only-of-type {\n",
       "        vertical-align: middle;\n",
       "    }\n",
       "\n",
       "    .dataframe tbody tr th {\n",
       "        vertical-align: top;\n",
       "    }\n",
       "\n",
       "    .dataframe thead th {\n",
       "        text-align: right;\n",
       "    }\n",
       "</style>\n",
       "<table border=\"1\" class=\"dataframe\">\n",
       "  <thead>\n",
       "    <tr style=\"text-align: right;\">\n",
       "      <th></th>\n",
       "      <th>id</th>\n",
       "      <th>artist</th>\n",
       "      <th>album</th>\n",
       "      <th>decade</th>\n",
       "      <th>sales_total</th>\n",
       "      <th>sales_us</th>\n",
       "      <th>description</th>\n",
       "      <th>author</th>\n",
       "    </tr>\n",
       "  </thead>\n",
       "  <tbody>\n",
       "    <tr>\n",
       "      <th>0</th>\n",
       "      <td>25-the-beatles-sgt-pepper-s-lonely-hearts-club...</td>\n",
       "      <td>The Beatles</td>\n",
       "      <td>Sgt. Pepper’s Lonely Hearts Club Band</td>\n",
       "      <td>60s</td>\n",
       "      <td>1800000</td>\n",
       "      <td>1100000</td>\n",
       "      <td>decade defined sweeping cultural paradigm shif...</td>\n",
       "      <td>Max Blau</td>\n",
       "    </tr>\n",
       "    <tr>\n",
       "      <th>1</th>\n",
       "      <td>24-pink-floyd-the-wall</td>\n",
       "      <td>Pink Floyd</td>\n",
       "      <td>The Wall</td>\n",
       "      <td>70s</td>\n",
       "      <td>1800000</td>\n",
       "      <td>1100000</td>\n",
       "      <td>legacy pink floyd cemented dark side moon . wa...</td>\n",
       "      <td>Clint Alwahab</td>\n",
       "    </tr>\n",
       "    <tr>\n",
       "      <th>2</th>\n",
       "      <td>23-michael-jackson-bad</td>\n",
       "      <td>Michael Jackson</td>\n",
       "      <td>Bad</td>\n",
       "      <td>80s</td>\n",
       "      <td>1900000</td>\n",
       "      <td>1000000</td>\n",
       "      <td>bizarre consider album five consecutive number...</td>\n",
       "      <td>Josh Jackson</td>\n",
       "    </tr>\n",
       "  </tbody>\n",
       "</table>\n",
       "</div>"
      ],
      "text/plain": [
       "                                                  id           artist  \\\n",
       "0  25-the-beatles-sgt-pepper-s-lonely-hearts-club...      The Beatles   \n",
       "1                             24-pink-floyd-the-wall       Pink Floyd   \n",
       "2                             23-michael-jackson-bad  Michael Jackson   \n",
       "\n",
       "                                   album decade  sales_total  sales_us  \\\n",
       "0  Sgt. Pepper’s Lonely Hearts Club Band    60s      1800000   1100000   \n",
       "1                               The Wall    70s      1800000   1100000   \n",
       "2                                    Bad    80s      1900000   1000000   \n",
       "\n",
       "                                         description         author  \n",
       "0  decade defined sweeping cultural paradigm shif...       Max Blau  \n",
       "1  legacy pink floyd cemented dark side moon . wa...  Clint Alwahab  \n",
       "2  bizarre consider album five consecutive number...   Josh Jackson  "
      ]
     },
     "execution_count": 2,
     "metadata": {},
     "output_type": "execute_result"
    }
   ],
   "source": [
    "dataset = pd.read_csv('../data/preprocessed.csv') \n",
    "dataset.head(3)\n"
   ]
  },
  {
   "cell_type": "code",
   "execution_count": 67,
   "metadata": {},
   "outputs": [],
   "source": [
    "description = list(dataset['description'])"
   ]
  },
  {
   "cell_type": "markdown",
   "metadata": {},
   "source": [
    "### Sentence Transformers \n",
    "\n",
    "While word2vec calculates the word embedding based on how words are semantically near, sentence transformers tend to calculate the vectors based on the semantic placement of words in sentences. \n",
    "\n",
    "The sentence transfomer model used here is the multi-qa-MiniLM model that has been trained on question answer pairs. "
   ]
  },
  {
   "cell_type": "code",
   "execution_count": 68,
   "metadata": {},
   "outputs": [],
   "source": [
    "from sentence_transformers import SentenceTransformer, util\n",
    "model = SentenceTransformer('multi-qa-MiniLM-L6-cos-v1')"
   ]
  },
  {
   "cell_type": "markdown",
   "metadata": {},
   "source": [
    "#### Cosine similarity calculation to measure similarity \n",
    "\n",
    "Just like cosine similarity calculated using word2vec embeddings, sentence transformers are used to get the embeddings to calculate the similarity between descriptions "
   ]
  },
  {
   "cell_type": "code",
   "execution_count": 69,
   "metadata": {},
   "outputs": [],
   "source": [
    "def cosine_similarity_score(description1, description2):\n",
    "    embeddings1 = model.encode(description1, convert_to_tensor=True)\n",
    "    embeddings2 = model.encode(description2, convert_to_tensor=True)\n",
    "    \n",
    "    cosine_scores = util.cos_sim(embeddings1, embeddings2)\n",
    "\n",
    "    \n",
    "\n",
    "    return cosine_scores\n",
    "def index_similarity_matrix(similarity_matrix):\n",
    "    indiced_list = []\n",
    "    for i in range(0,len(similarity_matrix)):\n",
    "        indiced_list.append((similarity_matrix, i))\n",
    "    \n",
    "    return indiced_list\n",
    "    "
   ]
  },
  {
   "cell_type": "code",
   "execution_count": 70,
   "metadata": {},
   "outputs": [
    {
     "name": "stdout",
     "output_type": "stream",
     "text": [
      "Runtime Value for Cosine Similarity Comparisons using sentence-transformers:  0.781  seconds\n"
     ]
    }
   ],
   "source": [
    "''''\n",
    "Calculating the Cosine Similarity Scores for all the descriptions. \n",
    "Time Taken for the comparisons and calculations of similarity is measured too.\n",
    "'''\n",
    "\n",
    "start = time.time()\n",
    "cosine_similarity_matrix = cosine_similarity_score(description, description)\n",
    "end = time.time()\n",
    "print(\"Runtime Value for Cosine Similarity Comparisons using sentence-transformers: \", round(end-start, 3), ' seconds')"
   ]
  },
  {
   "cell_type": "markdown",
   "metadata": {},
   "source": [
    "This is how the cosine similarity matrix calculated using sentence transformers looks like "
   ]
  },
  {
   "cell_type": "code",
   "execution_count": 71,
   "metadata": {},
   "outputs": [
    {
     "data": {
      "text/html": [
       "<div>\n",
       "<style scoped>\n",
       "    .dataframe tbody tr th:only-of-type {\n",
       "        vertical-align: middle;\n",
       "    }\n",
       "\n",
       "    .dataframe tbody tr th {\n",
       "        vertical-align: top;\n",
       "    }\n",
       "\n",
       "    .dataframe thead th {\n",
       "        text-align: right;\n",
       "    }\n",
       "</style>\n",
       "<table border=\"1\" class=\"dataframe\">\n",
       "  <thead>\n",
       "    <tr style=\"text-align: right;\">\n",
       "      <th></th>\n",
       "      <th>0</th>\n",
       "      <th>1</th>\n",
       "      <th>2</th>\n",
       "      <th>3</th>\n",
       "      <th>4</th>\n",
       "      <th>5</th>\n",
       "      <th>6</th>\n",
       "      <th>7</th>\n",
       "      <th>8</th>\n",
       "      <th>9</th>\n",
       "      <th>...</th>\n",
       "      <th>15</th>\n",
       "      <th>16</th>\n",
       "      <th>17</th>\n",
       "      <th>18</th>\n",
       "      <th>19</th>\n",
       "      <th>20</th>\n",
       "      <th>21</th>\n",
       "      <th>22</th>\n",
       "      <th>23</th>\n",
       "      <th>24</th>\n",
       "    </tr>\n",
       "  </thead>\n",
       "  <tbody>\n",
       "    <tr>\n",
       "      <th>0</th>\n",
       "      <td>1.000000</td>\n",
       "      <td>0.419216</td>\n",
       "      <td>0.318607</td>\n",
       "      <td>0.140613</td>\n",
       "      <td>0.292977</td>\n",
       "      <td>0.362418</td>\n",
       "      <td>0.381106</td>\n",
       "      <td>0.318956</td>\n",
       "      <td>0.216750</td>\n",
       "      <td>0.180031</td>\n",
       "      <td>...</td>\n",
       "      <td>0.336680</td>\n",
       "      <td>0.303355</td>\n",
       "      <td>0.296327</td>\n",
       "      <td>0.273890</td>\n",
       "      <td>0.292905</td>\n",
       "      <td>0.337997</td>\n",
       "      <td>0.302011</td>\n",
       "      <td>0.254539</td>\n",
       "      <td>0.268337</td>\n",
       "      <td>0.285982</td>\n",
       "    </tr>\n",
       "    <tr>\n",
       "      <th>1</th>\n",
       "      <td>0.419216</td>\n",
       "      <td>1.000000</td>\n",
       "      <td>0.322432</td>\n",
       "      <td>0.278901</td>\n",
       "      <td>0.361790</td>\n",
       "      <td>0.388053</td>\n",
       "      <td>0.342064</td>\n",
       "      <td>0.341412</td>\n",
       "      <td>0.242297</td>\n",
       "      <td>0.125636</td>\n",
       "      <td>...</td>\n",
       "      <td>0.385927</td>\n",
       "      <td>0.253370</td>\n",
       "      <td>0.381298</td>\n",
       "      <td>0.304698</td>\n",
       "      <td>0.313728</td>\n",
       "      <td>0.462597</td>\n",
       "      <td>0.269215</td>\n",
       "      <td>0.258122</td>\n",
       "      <td>0.313710</td>\n",
       "      <td>0.362993</td>\n",
       "    </tr>\n",
       "    <tr>\n",
       "      <th>2</th>\n",
       "      <td>0.318607</td>\n",
       "      <td>0.322432</td>\n",
       "      <td>1.000000</td>\n",
       "      <td>0.232726</td>\n",
       "      <td>0.445529</td>\n",
       "      <td>0.333952</td>\n",
       "      <td>0.547467</td>\n",
       "      <td>0.457730</td>\n",
       "      <td>0.155537</td>\n",
       "      <td>0.160747</td>\n",
       "      <td>...</td>\n",
       "      <td>0.398283</td>\n",
       "      <td>0.238538</td>\n",
       "      <td>0.338841</td>\n",
       "      <td>0.374886</td>\n",
       "      <td>0.407920</td>\n",
       "      <td>0.487965</td>\n",
       "      <td>0.425737</td>\n",
       "      <td>0.469572</td>\n",
       "      <td>0.316428</td>\n",
       "      <td>0.518388</td>\n",
       "    </tr>\n",
       "  </tbody>\n",
       "</table>\n",
       "<p>3 rows × 25 columns</p>\n",
       "</div>"
      ],
      "text/plain": [
       "         0         1         2         3         4         5         6   \\\n",
       "0  1.000000  0.419216  0.318607  0.140613  0.292977  0.362418  0.381106   \n",
       "1  0.419216  1.000000  0.322432  0.278901  0.361790  0.388053  0.342064   \n",
       "2  0.318607  0.322432  1.000000  0.232726  0.445529  0.333952  0.547467   \n",
       "\n",
       "         7         8         9   ...        15        16        17        18  \\\n",
       "0  0.318956  0.216750  0.180031  ...  0.336680  0.303355  0.296327  0.273890   \n",
       "1  0.341412  0.242297  0.125636  ...  0.385927  0.253370  0.381298  0.304698   \n",
       "2  0.457730  0.155537  0.160747  ...  0.398283  0.238538  0.338841  0.374886   \n",
       "\n",
       "         19        20        21        22        23        24  \n",
       "0  0.292905  0.337997  0.302011  0.254539  0.268337  0.285982  \n",
       "1  0.313728  0.462597  0.269215  0.258122  0.313710  0.362993  \n",
       "2  0.407920  0.487965  0.425737  0.469572  0.316428  0.518388  \n",
       "\n",
       "[3 rows x 25 columns]"
      ]
     },
     "execution_count": 71,
     "metadata": {},
     "output_type": "execute_result"
    }
   ],
   "source": [
    "dataframe = pd.DataFrame(cosine_similarity_matrix)\n",
    "dataframe.head(3) "
   ]
  },
  {
   "cell_type": "code",
   "execution_count": 72,
   "metadata": {},
   "outputs": [
    {
     "data": {
      "text/html": [
       "<div>\n",
       "<style scoped>\n",
       "    .dataframe tbody tr th:only-of-type {\n",
       "        vertical-align: middle;\n",
       "    }\n",
       "\n",
       "    .dataframe tbody tr th {\n",
       "        vertical-align: top;\n",
       "    }\n",
       "\n",
       "    .dataframe thead th {\n",
       "        text-align: right;\n",
       "    }\n",
       "</style>\n",
       "<table border=\"1\" class=\"dataframe\">\n",
       "  <thead>\n",
       "    <tr style=\"text-align: right;\">\n",
       "      <th></th>\n",
       "      <th>0</th>\n",
       "      <th>1</th>\n",
       "      <th>2</th>\n",
       "      <th>3</th>\n",
       "      <th>4</th>\n",
       "      <th>5</th>\n",
       "      <th>6</th>\n",
       "      <th>7</th>\n",
       "      <th>8</th>\n",
       "      <th>9</th>\n",
       "      <th>...</th>\n",
       "      <th>15</th>\n",
       "      <th>16</th>\n",
       "      <th>17</th>\n",
       "      <th>18</th>\n",
       "      <th>19</th>\n",
       "      <th>20</th>\n",
       "      <th>21</th>\n",
       "      <th>22</th>\n",
       "      <th>23</th>\n",
       "      <th>24</th>\n",
       "    </tr>\n",
       "  </thead>\n",
       "  <tbody>\n",
       "    <tr>\n",
       "      <th>0</th>\n",
       "      <td>1.000000</td>\n",
       "      <td>0.419216</td>\n",
       "      <td>0.318607</td>\n",
       "      <td>0.140613</td>\n",
       "      <td>0.292977</td>\n",
       "      <td>0.362418</td>\n",
       "      <td>0.381106</td>\n",
       "      <td>0.318956</td>\n",
       "      <td>0.216750</td>\n",
       "      <td>0.180031</td>\n",
       "      <td>...</td>\n",
       "      <td>0.336680</td>\n",
       "      <td>0.303355</td>\n",
       "      <td>0.296327</td>\n",
       "      <td>0.273890</td>\n",
       "      <td>0.292905</td>\n",
       "      <td>0.337997</td>\n",
       "      <td>0.302011</td>\n",
       "      <td>0.254539</td>\n",
       "      <td>0.268337</td>\n",
       "      <td>0.285982</td>\n",
       "    </tr>\n",
       "    <tr>\n",
       "      <th>1</th>\n",
       "      <td>0.419216</td>\n",
       "      <td>1.000000</td>\n",
       "      <td>0.322432</td>\n",
       "      <td>0.278901</td>\n",
       "      <td>0.361790</td>\n",
       "      <td>0.388053</td>\n",
       "      <td>0.342064</td>\n",
       "      <td>0.341412</td>\n",
       "      <td>0.242297</td>\n",
       "      <td>0.125636</td>\n",
       "      <td>...</td>\n",
       "      <td>0.385927</td>\n",
       "      <td>0.253370</td>\n",
       "      <td>0.381298</td>\n",
       "      <td>0.304698</td>\n",
       "      <td>0.313728</td>\n",
       "      <td>0.462597</td>\n",
       "      <td>0.269215</td>\n",
       "      <td>0.258122</td>\n",
       "      <td>0.313710</td>\n",
       "      <td>0.362993</td>\n",
       "    </tr>\n",
       "    <tr>\n",
       "      <th>2</th>\n",
       "      <td>0.318607</td>\n",
       "      <td>0.322432</td>\n",
       "      <td>1.000000</td>\n",
       "      <td>0.232726</td>\n",
       "      <td>0.445529</td>\n",
       "      <td>0.333952</td>\n",
       "      <td>0.547467</td>\n",
       "      <td>0.457730</td>\n",
       "      <td>0.155537</td>\n",
       "      <td>0.160747</td>\n",
       "      <td>...</td>\n",
       "      <td>0.398283</td>\n",
       "      <td>0.238538</td>\n",
       "      <td>0.338841</td>\n",
       "      <td>0.374886</td>\n",
       "      <td>0.407920</td>\n",
       "      <td>0.487965</td>\n",
       "      <td>0.425737</td>\n",
       "      <td>0.469572</td>\n",
       "      <td>0.316428</td>\n",
       "      <td>0.518388</td>\n",
       "    </tr>\n",
       "  </tbody>\n",
       "</table>\n",
       "<p>3 rows × 25 columns</p>\n",
       "</div>"
      ],
      "text/plain": [
       "         0         1         2         3         4         5         6   \\\n",
       "0  1.000000  0.419216  0.318607  0.140613  0.292977  0.362418  0.381106   \n",
       "1  0.419216  1.000000  0.322432  0.278901  0.361790  0.388053  0.342064   \n",
       "2  0.318607  0.322432  1.000000  0.232726  0.445529  0.333952  0.547467   \n",
       "\n",
       "         7         8         9   ...        15        16        17        18  \\\n",
       "0  0.318956  0.216750  0.180031  ...  0.336680  0.303355  0.296327  0.273890   \n",
       "1  0.341412  0.242297  0.125636  ...  0.385927  0.253370  0.381298  0.304698   \n",
       "2  0.457730  0.155537  0.160747  ...  0.398283  0.238538  0.338841  0.374886   \n",
       "\n",
       "         19        20        21        22        23        24  \n",
       "0  0.292905  0.337997  0.302011  0.254539  0.268337  0.285982  \n",
       "1  0.313728  0.462597  0.269215  0.258122  0.313710  0.362993  \n",
       "2  0.407920  0.487965  0.425737  0.469572  0.316428  0.518388  \n",
       "\n",
       "[3 rows x 25 columns]"
      ]
     },
     "execution_count": 72,
     "metadata": {},
     "output_type": "execute_result"
    }
   ],
   "source": [
    "def get_top_3(cosine_value_list):\n",
    "    '''\n",
    "    Takes in the cosine similarity value list\n",
    "    Returns the index of the top 3 similar queries\n",
    "    '''\n",
    "    \n",
    "    #Create indiced list \n",
    "    indiced_list = []\n",
    "    for i in range(len(cosine_value_list)):\n",
    "        indiced_list.append((float(cosine_value_list[i]), i))\n",
    "\n",
    "    cosine_value_list = sorted(indiced_list)\n",
    "    cosine_value_list = cosine_value_list[len(cosine_value_list)-3:]\n",
    "    indices = [ value[1] for value in cosine_value_list]\n",
    "    return indices\n",
    "\n",
    "def check_similar_authors(similar_query_indices):\n",
    "    '''\n",
    "    Takes the indices of the top 3 similar queries\n",
    "    Returns the percentage of similar authors\n",
    "    '''\n",
    "\n",
    "    if dataset.iloc[similar_query_indices[0]].author == dataset.iloc[similar_query_indices[1]].author == dataset.iloc[similar_query_indices[2]].author:\n",
    "        return 3/3 \n",
    "    if dataset.iloc[similar_query_indices[1]].author == dataset.iloc[similar_query_indices[2]].author or dataset.iloc[similar_query_indices[2]].author == dataset.iloc[similar_query_indices[0]].author or dataset.iloc[similar_query_indices[1]].author == dataset.iloc[similar_query_indices[0]].author:\n",
    "        return 2/3\n",
    "    return 0/3\n",
    "    \n",
    "def check_similar_decade(similar_query_indices):\n",
    "    '''\n",
    "    Takes the indices of the top 3 similar queries \n",
    "    Returns the percentage of similar decades\n",
    "    '''\n",
    "      \n",
    "    if dataset.iloc[similar_query_indices[0]].decade == dataset.iloc[similar_query_indices[1]].decade == dataset.iloc[similar_query_indices[2]].decade:\n",
    "        return 3/3\n",
    "    if dataset.iloc[similar_query_indices[1]].decade == dataset.iloc[similar_query_indices[2]].decade or dataset.iloc[similar_query_indices[2]].decade == dataset.iloc[similar_query_indices[0]].decade or dataset.iloc[similar_query_indices[0]].decade == dataset.iloc[similar_query_indices[1]].decade:\n",
    "        return 2/3\n",
    "  \n",
    "    \n",
    "    return 0/3"
   ]
  },
  {
   "cell_type": "code",
   "execution_count": 73,
   "metadata": {},
   "outputs": [],
   "source": [
    "#Getting the top 3 most similar queries for each description.  \n",
    "get_top_3_indices = [get_top_3(cosine_similarity_matrix[i]) for i in range(len(cosine_similarity_matrix))] \n",
    "\n",
    "#Getting the percentage of same authors  in the top 3 most similar albums (based on description)\n",
    "same_author_percentage = [check_similar_authors(index) for index in get_top_3_indices]\n",
    "\n",
    "#Getting the percentage of same decade for top 3 most similar album (based on description)\n",
    "same_decade_percentage = [check_similar_decade(index) for index in get_top_3_indices]\n"
   ]
  },
  {
   "cell_type": "code",
   "execution_count": 80,
   "metadata": {},
   "outputs": [],
   "source": [
    "#Getting the top 3 most similar queries for each description.  \n",
    "get_top_3_indices = [get_top_3(cosine_similarity_matrix[i]) for i in range(len(cosine_similarity_matrix))] \n",
    "\n",
    "#Getting the percentage of same authors  in the top 3 most similar albums (based on description)\n",
    "same_author_percentage = [check_similar_authors(index) for index in get_top_3_indices]\n",
    "\n",
    "#Getting the percentage of same decade for top 3 most similar album (based on description)\n",
    "same_decade_percentage = [check_similar_decade(index) for index in get_top_3_indices]\n",
    "\n",
    " "
   ]
  },
  {
   "cell_type": "markdown",
   "metadata": {},
   "source": [
    "### Visualization of Results of percentage of same decades and authors within top 3 most similar queries\n",
    "\n",
    "##### Histogram to understand the distribution of queries that had 1author similar in the top 3 queries, 2 authors similar in the top 3 queries "
   ]
  },
  {
   "cell_type": "code",
   "execution_count": 82,
   "metadata": {},
   "outputs": [
    {
     "data": {
      "text/plain": [
       "Text(0, 0.5, 'Frequency')"
      ]
     },
     "execution_count": 82,
     "metadata": {},
     "output_type": "execute_result"
    },
    {
     "data": {
      "image/png": "[encoded data removed]",
      "text/plain": [
       "<Figure size 432x288 with 1 Axes>"
      ]
     },
     "metadata": {
      "needs_background": "light"
     },
     "output_type": "display_data"
    }
   ],
   "source": [
    "\n",
    "hplot = sns.distplot(same_author_percentage, kde=False, color='red', bins=100)\n",
    "plt.title('Percentage of similar authors - Sentence Transformers', fontsize=15)\n",
    "plt.xlabel('Percentage of Similar authors', fontsize=16)\n",
    "plt.ylabel('Frequency' , fontsize=16)\n"
   ]
  },
  {
   "cell_type": "markdown",
   "metadata": {},
   "source": [
    "> It can be observed that:\n",
    "- 15 albums have their top 3 albums not having any similar author values between then. \n",
    "- 10 albums have 2 of the values in their top 3 albums having the same author values between them "
   ]
  },
  {
   "cell_type": "markdown",
   "metadata": {},
   "source": [
    "##### Histogram to understand the distribution of queries that had 1 decade similar in the top 3 queries, 2 decades similar in the top 3 queries "
   ]
  },
  {
   "cell_type": "code",
   "execution_count": 84,
   "metadata": {},
   "outputs": [
    {
     "name": "stderr",
     "output_type": "stream",
     "text": [
      "/home/vishnu/anaconda3/envs/music-album-similarity/lib/python3.9/site-packages/seaborn/distributions.py:2619: FutureWarning: `distplot` is a deprecated function and will be removed in a future version. Please adapt your code to use either `displot` (a figure-level function with similar flexibility) or `histplot` (an axes-level function for histograms).\n",
      "  warnings.warn(msg, FutureWarning)\n"
     ]
    },
    {
     "data": {
      "text/plain": [
       "Text(0, 0.5, 'Frequency')"
      ]
     },
     "execution_count": 84,
     "metadata": {},
     "output_type": "execute_result"
    },
    {
     "data": {
      "image/png": "[encoded data removed]",
      "text/plain": [
       "<Figure size 432x288 with 1 Axes>"
      ]
     },
     "metadata": {
      "needs_background": "light"
     },
     "output_type": "display_data"
    }
   ],
   "source": [
    "hplot = sns.distplot(same_decade_percentage, kde=False, color='blue', bins=100)\n",
    "plt.title('Percentage of similar decades - Sentence Transformers', fontsize=18)\n",
    "plt.xlabel('Percentage of Similar decades', fontsize=16)\n",
    "plt.ylabel('Frequency' , fontsize=16)"
   ]
  },
  {
   "cell_type": "markdown",
   "metadata": {},
   "source": [
    "> It can be observed that, \n",
    "- 8 albums have their top 3 albums belonging to different decades. \n",
    "- 15 albums have their 2 of the top 3 albums having the same decade. \n",
    "- 2 albums have all their top 3 albums all from the same decade "
   ]
  }
 ],
 "metadata": {
  "interpreter": {
   "hash": "5c0a77933101fd243bd6a7dbf88111bea8091c32edc72ba9b5ef86a30d9f8476"
  },
  "kernelspec": {
   "display_name": "Python 3.9.7 ('music-album-similarity')",
   "language": "python",
   "name": "python3"
  },
  "language_info": {
   "codemirror_mode": {
    "name": "ipython",
    "version": 3
   },
   "file_extension": ".py",
   "mimetype": "text/x-python",
   "name": "python",
   "nbconvert_exporter": "python",
   "pygments_lexer": "ipython3",
   "version": "3.9.7"
  },
  "orig_nbformat": 4
 },
 "nbformat": 4,
 "nbformat_minor": 2
}

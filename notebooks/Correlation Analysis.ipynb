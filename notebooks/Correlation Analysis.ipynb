{
 "cells": [
  {
   "cell_type": "markdown",
   "metadata": {},
   "source": [
    "# Correlation analysis\n",
    "\n",
    "\n"
   ]
  },
  {
   "cell_type": "markdown",
   "metadata": {},
   "source": [
    "<subheading>Importing the necessary libraries</subheading>"
   ]
  },
  {
   "cell_type": "code",
   "execution_count": 1,
   "metadata": {},
   "outputs": [],
   "source": [
    "import pandas as pd \n",
    "import numpy as np \n",
    "import matplotlib.pyplot as plt \n",
    "import seaborn as sns\n",
    "from scipy import stats\n",
    "from math import ceil"
   ]
  },
  {
   "cell_type": "markdown",
   "metadata": {},
   "source": [
    "### The Dataset\n",
    "\n",
    "The Different Attributes in the dataset are: \n",
    "- id : text \n",
    "- Artist : text \n",
    "- Album : text \n",
    "- Decade : text \n",
    "- <b>Sales_total : number </b>\n",
    "- <b>Sales_US : number</b>\n",
    "- Description : Text\n",
    "- Author : Text"
   ]
  },
  {
   "cell_type": "code",
   "execution_count": 4,
   "metadata": {},
   "outputs": [
    {
     "data": {
      "text/html": [
       "<div>\n",
       "<style scoped>\n",
       "    .dataframe tbody tr th:only-of-type {\n",
       "        vertical-align: middle;\n",
       "    }\n",
       "\n",
       "    .dataframe tbody tr th {\n",
       "        vertical-align: top;\n",
       "    }\n",
       "\n",
       "    .dataframe thead th {\n",
       "        text-align: right;\n",
       "    }\n",
       "</style>\n",
       "<table border=\"1\" class=\"dataframe\">\n",
       "  <thead>\n",
       "    <tr style=\"text-align: right;\">\n",
       "      <th></th>\n",
       "      <th>id</th>\n",
       "      <th>artist</th>\n",
       "      <th>album</th>\n",
       "      <th>decade</th>\n",
       "      <th>sales_total</th>\n",
       "      <th>sales_us</th>\n",
       "      <th>description</th>\n",
       "      <th>author</th>\n",
       "    </tr>\n",
       "  </thead>\n",
       "  <tbody>\n",
       "    <tr>\n",
       "      <th>0</th>\n",
       "      <td>25-the-beatles-sgt-pepper-s-lonely-hearts-club...</td>\n",
       "      <td>The Beatles</td>\n",
       "      <td>Sgt. Pepper’s Lonely Hearts Club Band</td>\n",
       "      <td>60s</td>\n",
       "      <td>1800000</td>\n",
       "      <td>1100000</td>\n",
       "      <td>decade defined sweeping cultural paradigm shif...</td>\n",
       "      <td>Max Blau</td>\n",
       "    </tr>\n",
       "    <tr>\n",
       "      <th>1</th>\n",
       "      <td>24-pink-floyd-the-wall</td>\n",
       "      <td>Pink Floyd</td>\n",
       "      <td>The Wall</td>\n",
       "      <td>70s</td>\n",
       "      <td>1800000</td>\n",
       "      <td>1100000</td>\n",
       "      <td>legacy pink floyd cemented dark side moon . wa...</td>\n",
       "      <td>Clint Alwahab</td>\n",
       "    </tr>\n",
       "    <tr>\n",
       "      <th>2</th>\n",
       "      <td>23-michael-jackson-bad</td>\n",
       "      <td>Michael Jackson</td>\n",
       "      <td>Bad</td>\n",
       "      <td>80s</td>\n",
       "      <td>1900000</td>\n",
       "      <td>1000000</td>\n",
       "      <td>bizarre consider album five consecutive number...</td>\n",
       "      <td>Josh Jackson</td>\n",
       "    </tr>\n",
       "  </tbody>\n",
       "</table>\n",
       "</div>"
      ],
      "text/plain": [
       "                                                  id           artist  \\\n",
       "0  25-the-beatles-sgt-pepper-s-lonely-hearts-club...      The Beatles   \n",
       "1                             24-pink-floyd-the-wall       Pink Floyd   \n",
       "2                             23-michael-jackson-bad  Michael Jackson   \n",
       "\n",
       "                                   album decade  sales_total  sales_us  \\\n",
       "0  Sgt. Pepper’s Lonely Hearts Club Band    60s      1800000   1100000   \n",
       "1                               The Wall    70s      1800000   1100000   \n",
       "2                                    Bad    80s      1900000   1000000   \n",
       "\n",
       "                                         description         author  \n",
       "0  decade defined sweeping cultural paradigm shif...       Max Blau  \n",
       "1  legacy pink floyd cemented dark side moon . wa...  Clint Alwahab  \n",
       "2  bizarre consider album five consecutive number...   Josh Jackson  "
      ]
     },
     "execution_count": 4,
     "metadata": {},
     "output_type": "execute_result"
    }
   ],
   "source": [
    "dataframe = pd.read_csv('../data/preprocessed.csv') \n",
    "dataframe.head(3)"
   ]
  },
  {
   "cell_type": "markdown",
   "metadata": {},
   "source": [
    "> Correlation is a metric that gives insights on the numerical assoiation between two variables. \n",
    "\n",
    "Here, two variables in particular namely the <b>Total Sales</b> and <b>U.S. Sales</b> have some kind of numerical association that can be better interpreted using the correlation analysis\n",
    "\n",
    "The correlation measures taken into consideration here are: \n",
    "- Pearson Coefficient \n",
    "- Spearman Coefficient "
   ]
  },
  {
   "cell_type": "markdown",
   "metadata": {},
   "source": [
    "### Interpretation of the Pearson Coefficient\n",
    "\n",
    "Range of Values:  -1 to +1 \n",
    "Interpretation of the value: \n",
    "    - +1 signifies a strong positive association \n",
    "    - -1 signifies a strong negative association \n",
    "    - 0 signifies no assocation"
   ]
  },
  {
   "cell_type": "code",
   "execution_count": 3,
   "metadata": {},
   "outputs": [
    {
     "name": "stdout",
     "output_type": "stream",
     "text": [
      "Pearson Coefficient between Total Sales and U.S. Sales: 0.8881793629551367\n"
     ]
    }
   ],
   "source": [
    "sales = dataframe[['sales_total', 'sales_us']]\n",
    "pearson = stats.pearsonr(sales['sales_total'],sales['sales_us'] )[0]\n",
    "print(\"Pearson Coefficient between Total Sales and U.S. Sales:\" , stats.pearsonr(sales['sales_total'],sales['sales_us'] )[0])"
   ]
  },
  {
   "cell_type": "markdown",
   "metadata": {},
   "source": [
    "> This which signifies a <i>strong positive correlation</i> between the two variables.  "
   ]
  },
  {
   "cell_type": "markdown",
   "metadata": {},
   "source": [
    "#### Verification using a scatter plot between Total Sales and U.S. Sales"
   ]
  },
  {
   "cell_type": "code",
   "execution_count": 8,
   "metadata": {},
   "outputs": [
    {
     "data": {
      "text/plain": [
       "Text(0.5, 1.0, 'Pearson Coefficient Plot')"
      ]
     },
     "execution_count": 8,
     "metadata": {},
     "output_type": "execute_result"
    },
    {
     "data": {
      "image/png": "[encoded data removed]",
      "text/plain": [
       "<Figure size 432x288 with 1 Axes>"
      ]
     },
     "metadata": {
      "needs_background": "light"
     },
     "output_type": "display_data"
    }
   ],
   "source": [
    "x,y = np.array(sales['sales_total']), np.array(sales['sales_us'])\n",
    "plt.scatter(x,y)\n",
    "m, b = np.polyfit(x, y, 1)\n",
    "plt.plot(x, m*x + b, color=\"orange\")\n",
    "plt.title('Pearson Coefficient Plot')\n",
    "\n"
   ]
  },
  {
   "cell_type": "markdown",
   "metadata": {},
   "source": [
    "##### Insights from the scatter plot: \n",
    "\n",
    "Though points appear to be somewhat linear, more data would help in a better conclusion on the linear correlation of the data given. \n"
   ]
  },
  {
   "cell_type": "markdown",
   "metadata": {},
   "source": [
    "### Interpretation of the Spearman Coefficient"
   ]
  },
  {
   "cell_type": "code",
   "execution_count": 5,
   "metadata": {},
   "outputs": [
    {
     "name": "stdout",
     "output_type": "stream",
     "text": [
      "Spearman Coefficient between Total Sales and U.S. Sales: 0.7797400894488049\n",
      "Difference between Pearson and Spearman Coefficient Values:  11 %\n"
     ]
    }
   ],
   "source": [
    "spearman =  stats.spearmanr(sales['sales_total'],sales['sales_us'] )[0]\n",
    "print(\"Spearman Coefficient between Total Sales and U.S. Sales:\" , stats.spearmanr(sales['sales_total'],sales['sales_us'] )[0])\n",
    "print(\"Difference between Pearson and Spearman Coefficient Values: \", ceil((pearson-spearman)*100), \"%\")"
   ]
  },
  {
   "cell_type": "markdown",
   "metadata": {},
   "source": [
    "There is almost a 11% difference between the pearson and spearman coefficients. This could be attributed for the fact that the pearson coefficient assumes the data is normally distributed. "
   ]
  },
  {
   "cell_type": "code",
   "execution_count": 11,
   "metadata": {},
   "outputs": [
    {
     "data": {
      "text/plain": [
       "Text(0, 0.5, 'Frequency')"
      ]
     },
     "execution_count": 11,
     "metadata": {},
     "output_type": "execute_result"
    },
    {
     "data": {
      "image/png": "[encoded data removed]",
      "text/plain": [
       "<Figure size 432x288 with 1 Axes>"
      ]
     },
     "metadata": {
      "needs_background": "light"
     },
     "output_type": "display_data"
    }
   ],
   "source": [
    "\n",
    "hplot = sns.distplot(sales['sales_total'], kde=False, color='red', bins=100)\n",
    "plt.title('Total Album Sales Distribution', fontsize=18)\n",
    "plt.xlabel('Total Album Sales', fontsize=16)\n",
    "plt.ylabel('Frequency' , fontsize=16)\n",
    "\n"
   ]
  },
  {
   "cell_type": "code",
   "execution_count": 10,
   "metadata": {},
   "outputs": [
    {
     "data": {
      "text/plain": [
       "Text(0, 0.5, 'Frequency')"
      ]
     },
     "execution_count": 10,
     "metadata": {},
     "output_type": "execute_result"
    },
    {
     "data": {
      "image/png": "[encoded data removed]",
      "text/plain": [
       "<Figure size 432x288 with 1 Axes>"
      ]
     },
     "metadata": {
      "needs_background": "light"
     },
     "output_type": "display_data"
    }
   ],
   "source": [
    "hplot = sns.distplot(sales['sales_us'], kde=False, color='green', bins=100)\n",
    "plt.title('U.S Album Sales Distribution', fontsize=18)\n",
    "plt.xlabel('U.S Album Sales', fontsize=16)\n",
    "plt.ylabel('Frequency' , fontsize=16)\n"
   ]
  },
  {
   "cell_type": "markdown",
   "metadata": {},
   "source": [
    "This shows that Total Album sales is not normally distributed. And this assumption could be one of the factors accounting for that 11% difference between both the coefficient values. "
   ]
  },
  {
   "cell_type": "markdown",
   "metadata": {},
   "source": []
  }
 ],
 "metadata": {
  "interpreter": {
   "hash": "5c0a77933101fd243bd6a7dbf88111bea8091c32edc72ba9b5ef86a30d9f8476"
  },
  "kernelspec": {
   "display_name": "Python 3.9.7 ('music-album-similarity')",
   "language": "python",
   "name": "python3"
  },
  "language_info": {
   "codemirror_mode": {
    "name": "ipython",
    "version": 3
   },
   "file_extension": ".py",
   "mimetype": "text/x-python",
   "name": "python",
   "nbconvert_exporter": "python",
   "pygments_lexer": "ipython3",
   "version": "3.9.7"
  },
  "orig_nbformat": 4
 },
 "nbformat": 4,
 "nbformat_minor": 2
}

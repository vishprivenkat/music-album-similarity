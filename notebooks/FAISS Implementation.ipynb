{
 "cells": [
  {
   "cell_type": "code",
   "execution_count": 3,
   "metadata": {},
   "outputs": [],
   "source": [
    "import pandas as pd \n",
    "import numpy as np \n",
    "import matplotlib.pyplot as plt \n",
    "\n",
    "import pickle \n",
    "import time\n",
    "import seaborn as sns\n",
    "\n",
    "from nltk.tokenize import word_tokenize \n",
    "\n",
    "from scipy.spatial import distance"
   ]
  },
  {
   "cell_type": "markdown",
   "metadata": {},
   "source": [
    "### The Dataset\n",
    "\n",
    "The Different Attributes in the dataset are: \n",
    "- id : text \n",
    "- Artist : text \n",
    "- Album : text \n",
    "- Decade : text \n",
    "- Sales_total : number \n",
    "- Sales_US : number\n",
    "- <b>Description : Text</b>"
   ]
  },
  {
   "cell_type": "code",
   "execution_count": 4,
   "metadata": {},
   "outputs": [
    {
     "data": {
      "text/html": [
       "<div>\n",
       "<style scoped>\n",
       "    .dataframe tbody tr th:only-of-type {\n",
       "        vertical-align: middle;\n",
       "    }\n",
       "\n",
       "    .dataframe tbody tr th {\n",
       "        vertical-align: top;\n",
       "    }\n",
       "\n",
       "    .dataframe thead th {\n",
       "        text-align: right;\n",
       "    }\n",
       "</style>\n",
       "<table border=\"1\" class=\"dataframe\">\n",
       "  <thead>\n",
       "    <tr style=\"text-align: right;\">\n",
       "      <th></th>\n",
       "      <th>id</th>\n",
       "      <th>artist</th>\n",
       "      <th>album</th>\n",
       "      <th>decade</th>\n",
       "      <th>sales_total</th>\n",
       "      <th>sales_us</th>\n",
       "      <th>description</th>\n",
       "      <th>author</th>\n",
       "    </tr>\n",
       "  </thead>\n",
       "  <tbody>\n",
       "    <tr>\n",
       "      <th>0</th>\n",
       "      <td>25-the-beatles-sgt-pepper-s-lonely-hearts-club...</td>\n",
       "      <td>The Beatles</td>\n",
       "      <td>Sgt. Pepper’s Lonely Hearts Club Band</td>\n",
       "      <td>60s</td>\n",
       "      <td>1800000</td>\n",
       "      <td>1100000</td>\n",
       "      <td>decade defined sweeping cultural paradigm shif...</td>\n",
       "      <td>Max Blau</td>\n",
       "    </tr>\n",
       "    <tr>\n",
       "      <th>1</th>\n",
       "      <td>24-pink-floyd-the-wall</td>\n",
       "      <td>Pink Floyd</td>\n",
       "      <td>The Wall</td>\n",
       "      <td>70s</td>\n",
       "      <td>1800000</td>\n",
       "      <td>1100000</td>\n",
       "      <td>legacy pink floyd cemented dark side moon . wa...</td>\n",
       "      <td>Clint Alwahab</td>\n",
       "    </tr>\n",
       "    <tr>\n",
       "      <th>2</th>\n",
       "      <td>23-michael-jackson-bad</td>\n",
       "      <td>Michael Jackson</td>\n",
       "      <td>Bad</td>\n",
       "      <td>80s</td>\n",
       "      <td>1900000</td>\n",
       "      <td>1000000</td>\n",
       "      <td>bizarre consider album five consecutive number...</td>\n",
       "      <td>Josh Jackson</td>\n",
       "    </tr>\n",
       "  </tbody>\n",
       "</table>\n",
       "</div>"
      ],
      "text/plain": [
       "                                                  id           artist  \\\n",
       "0  25-the-beatles-sgt-pepper-s-lonely-hearts-club...      The Beatles   \n",
       "1                             24-pink-floyd-the-wall       Pink Floyd   \n",
       "2                             23-michael-jackson-bad  Michael Jackson   \n",
       "\n",
       "                                   album decade  sales_total  sales_us  \\\n",
       "0  Sgt. Pepper’s Lonely Hearts Club Band    60s      1800000   1100000   \n",
       "1                               The Wall    70s      1800000   1100000   \n",
       "2                                    Bad    80s      1900000   1000000   \n",
       "\n",
       "                                         description         author  \n",
       "0  decade defined sweeping cultural paradigm shif...       Max Blau  \n",
       "1  legacy pink floyd cemented dark side moon . wa...  Clint Alwahab  \n",
       "2  bizarre consider album five consecutive number...   Josh Jackson  "
      ]
     },
     "execution_count": 4,
     "metadata": {},
     "output_type": "execute_result"
    }
   ],
   "source": [
    "dataset = pd.read_csv('../data/preprocessed.csv') \n",
    "dataset.head(3)\n"
   ]
  },
  {
   "cell_type": "code",
   "execution_count": 5,
   "metadata": {},
   "outputs": [],
   "source": [
    "description = list(dataset['description'])"
   ]
  },
  {
   "cell_type": "markdown",
   "metadata": {},
   "source": [
    "### About Faiss \n",
    "\n",
    "Faiss using clustering techniques to map and group similar queries together. Using the embeddings created using sentence tranformers, the faiss index is created and stored. "
   ]
  },
  {
   "cell_type": "code",
   "execution_count": 6,
   "metadata": {},
   "outputs": [],
   "source": [
    "from sentence_transformers import SentenceTransformer, util\n",
    "model = SentenceTransformer('multi-qa-MiniLM-L6-cos-v1')"
   ]
  },
  {
   "cell_type": "code",
   "execution_count": 7,
   "metadata": {},
   "outputs": [],
   "source": [
    "embeddings = model.encode(description, convert_to_tensor=True)\n",
    "embeddings = embeddings.numpy()"
   ]
  },
  {
   "cell_type": "code",
   "execution_count": 8,
   "metadata": {},
   "outputs": [],
   "source": [
    "import faiss\n",
    "index = faiss.IndexFlatL2(embeddings.shape[1])\n",
    "faiss.normalize_L2(embeddings)\n",
    "index.add(embeddings)\n",
    "faiss.write_index(index, '../data/music_album_similarity')\n"
   ]
  },
  {
   "cell_type": "markdown",
   "metadata": {},
   "source": [
    "The code is implemented using the Index Flat L2, that measures the euclidean distance between all the points and the query that is given. "
   ]
  },
  {
   "cell_type": "code",
   "execution_count": 9,
   "metadata": {},
   "outputs": [
    {
     "name": "stdout",
     "output_type": "stream",
     "text": [
      "Runtime for similar query finding using Faiss:  0.0003485679626464844  seconds\n"
     ]
    }
   ],
   "source": [
    "\n",
    "''''\n",
    "Calculating the similarity in queries for all the descriptions using Faiss \n",
    "'''\n",
    "\n",
    "#Determines the cluster value to be used. \n",
    "top_3_queries = 3\n",
    "similar_query = []\n",
    "encoded_descriptions = [ model.encode([description[i]]) for i in range(len(description))] \n",
    "start = time.time()\n",
    "for i in range(len(encoded_descriptions)):\n",
    "    \n",
    "    D,I = index.search(encoded_descriptions[i], top_3_queries)\n",
    "    similar_query.append(I)\n",
    "\n",
    "end = time.time()\n",
    "print(\"Runtime for similar query finding using Faiss: \", (end-start), ' seconds')"
   ]
  },
  {
   "cell_type": "markdown",
   "metadata": {},
   "source": [
    "### Exploring for potential speedup in searching similar queries\n",
    "\n",
    "While Flat Index L2, performs an exhaustive search in comparing the search query with every other query that is there in the dataset, it is possible to speed up this process by using IndexIVFFLat that converts the embeddings into Voronoi cells and compares the search queries only to the centroid of the cells. "
   ]
  },
  {
   "cell_type": "code",
   "execution_count": 10,
   "metadata": {},
   "outputs": [],
   "source": [
    "''' \n",
    "Using IndexIVFFlat in expectancy of faster results \n",
    "'''\n",
    "no_of_cells = 2\n",
    "new_index = faiss.IndexIVFFlat(index, embeddings.shape[1], no_of_cells)\n"
   ]
  },
  {
   "cell_type": "markdown",
   "metadata": {},
   "source": [
    "Checking if the index is trained or not "
   ]
  },
  {
   "cell_type": "code",
   "execution_count": 11,
   "metadata": {},
   "outputs": [
    {
     "data": {
      "text/plain": [
       "False"
      ]
     },
     "execution_count": 11,
     "metadata": {},
     "output_type": "execute_result"
    }
   ],
   "source": [
    "new_index.is_trained"
   ]
  },
  {
   "cell_type": "code",
   "execution_count": 12,
   "metadata": {},
   "outputs": [
    {
     "name": "stdout",
     "output_type": "stream",
     "text": [
      "Is the Index trained ?  True\n",
      "The total number of indexed embeddings:  2\n"
     ]
    },
    {
     "name": "stderr",
     "output_type": "stream",
     "text": [
      "WARNING clustering 25 points to 2 centroids: please provide at least 78 training points\n"
     ]
    }
   ],
   "source": [
    "new_index.train(embeddings)\n",
    "print(\"Is the Index trained ? \", index.is_trained )\n",
    "new_index.add(embeddings)\n",
    "print(\"The total number of indexed embeddings: \", index.ntotal)"
   ]
  },
  {
   "cell_type": "markdown",
   "metadata": {},
   "source": [
    "Now the same search for similar queries is performed over the faiss flat embeddings "
   ]
  },
  {
   "cell_type": "code",
   "execution_count": 13,
   "metadata": {},
   "outputs": [
    {
     "name": "stdout",
     "output_type": "stream",
     "text": [
      "Runtime for similar query finding using Faiss:  0.00032210350036621094 milliseconds\n"
     ]
    }
   ],
   "source": [
    "\n",
    "''''\n",
    "Calculating the similarity in queries for all the descriptions using Faiss \n",
    "'''\n",
    "\n",
    "#Determines the cluster value to be used. \n",
    "top_3_queries = 3\n",
    "similar_query = []\n",
    "encoded_descriptions = [ model.encode([description[i]]) for i in range(len(description))] \n",
    "start = time.time()\n",
    "for i in range(len(encoded_descriptions)):\n",
    "    \n",
    "    D,I = new_index.search(encoded_descriptions[i], top_3_queries)\n",
    "    similar_query.append(I)\n",
    "\n",
    "end = time.time()\n",
    "print(\"Runtime for similar query finding using Faiss: \", (end-start), 'milliseconds')"
   ]
  },
  {
   "cell_type": "markdown",
   "metadata": {},
   "source": [
    "There was a speed up in the performance of sentence transformers by using Faiss"
   ]
  }
 ],
 "metadata": {
  "interpreter": {
   "hash": "5c0a77933101fd243bd6a7dbf88111bea8091c32edc72ba9b5ef86a30d9f8476"
  },
  "kernelspec": {
   "display_name": "Python 3.9.7 ('music-album-similarity')",
   "language": "python",
   "name": "python3"
  },
  "language_info": {
   "codemirror_mode": {
    "name": "ipython",
    "version": 3
   },
   "file_extension": ".py",
   "mimetype": "text/x-python",
   "name": "python",
   "nbconvert_exporter": "python",
   "pygments_lexer": "ipython3",
   "version": "3.9.7"
  },
  "orig_nbformat": 4
 },
 "nbformat": 4,
 "nbformat_minor": 2
}

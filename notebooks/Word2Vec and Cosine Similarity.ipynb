{
 "cells": [
  {
   "cell_type": "markdown",
   "metadata": {},
   "source": [
    "# Pairwise Query Similarity with Jaccard Similarity\n",
    "\n",
    "The aim of this experiment is to find similar descriptions from the pool of descriptions present to the given input. This can be achieved in many ways and the main four ways experimented here are: \n",
    "\n",
    "        - Calculating Jaccard Similarity between entity classes. \n",
    "        - Using Word2Vec embeddings and Cosine similarity between descriptions \n",
    "        - Using sentence transformers for the caluclation of similarities. \n",
    "\n",
    "- This notebook in particular deals with <b>Cosine Similarity Calculated using Word2Vec Embeddings</b> \n",
    "\n",
    "- It also contains the description about how many top 3 similar queries have the same decade and author. <b>(Task for the DSTrack)</b>\n",
    "\n",
    "- There is also a runtime measurement that has been done with respect to these queries. \n",
    "\n",
    "\n",
    "\n",
    "\n",
    "\n"
   ]
  },
  {
   "cell_type": "markdown",
   "metadata": {},
   "source": [
    "Importing Libraries necessary"
   ]
  },
  {
   "cell_type": "code",
   "execution_count": 1,
   "metadata": {},
   "outputs": [],
   "source": [
    "import pandas as pd \n",
    "import numpy as np \n",
    "import matplotlib.pyplot as plt \n",
    "import spacy\n",
    "from spacy import displacy\n",
    "from collections import Counter\n",
    "import en_core_web_sm\n",
    "nlp = en_core_web_sm.load()\n",
    "import pickle \n",
    "import time\n",
    "import seaborn as sns\n",
    "import gensim\n",
    "from gensim.models import Word2Vec\n",
    "from nltk.tokenize import word_tokenize \n",
    "from sklearn.metrics.pairwise import cosine_similarity\n",
    "from scipy.spatial import distance"
   ]
  },
  {
   "cell_type": "markdown",
   "metadata": {},
   "source": [
    "### The Dataset\n",
    "\n",
    "The Different Attributes in the dataset are: \n",
    "- id : text \n",
    "- Artist : text \n",
    "- Album : text \n",
    "- Decade : text \n",
    "- Sales_total : number \n",
    "- Sales_US : number\n",
    "- <b>Description : Text</b>"
   ]
  },
  {
   "cell_type": "code",
   "execution_count": 2,
   "metadata": {},
   "outputs": [
    {
     "data": {
      "text/html": [
       "<div>\n",
       "<style scoped>\n",
       "    .dataframe tbody tr th:only-of-type {\n",
       "        vertical-align: middle;\n",
       "    }\n",
       "\n",
       "    .dataframe tbody tr th {\n",
       "        vertical-align: top;\n",
       "    }\n",
       "\n",
       "    .dataframe thead th {\n",
       "        text-align: right;\n",
       "    }\n",
       "</style>\n",
       "<table border=\"1\" class=\"dataframe\">\n",
       "  <thead>\n",
       "    <tr style=\"text-align: right;\">\n",
       "      <th></th>\n",
       "      <th>id</th>\n",
       "      <th>artist</th>\n",
       "      <th>album</th>\n",
       "      <th>decade</th>\n",
       "      <th>sales_total</th>\n",
       "      <th>sales_us</th>\n",
       "      <th>description</th>\n",
       "      <th>author</th>\n",
       "    </tr>\n",
       "  </thead>\n",
       "  <tbody>\n",
       "    <tr>\n",
       "      <th>0</th>\n",
       "      <td>25-the-beatles-sgt-pepper-s-lonely-hearts-club...</td>\n",
       "      <td>The Beatles</td>\n",
       "      <td>Sgt. Pepper’s Lonely Hearts Club Band</td>\n",
       "      <td>60s</td>\n",
       "      <td>1800000</td>\n",
       "      <td>1100000</td>\n",
       "      <td>decade defined sweeping cultural paradigm shif...</td>\n",
       "      <td>Max Blau</td>\n",
       "    </tr>\n",
       "    <tr>\n",
       "      <th>1</th>\n",
       "      <td>24-pink-floyd-the-wall</td>\n",
       "      <td>Pink Floyd</td>\n",
       "      <td>The Wall</td>\n",
       "      <td>70s</td>\n",
       "      <td>1800000</td>\n",
       "      <td>1100000</td>\n",
       "      <td>legacy pink floyd cemented dark side moon . wa...</td>\n",
       "      <td>Clint Alwahab</td>\n",
       "    </tr>\n",
       "    <tr>\n",
       "      <th>2</th>\n",
       "      <td>23-michael-jackson-bad</td>\n",
       "      <td>Michael Jackson</td>\n",
       "      <td>Bad</td>\n",
       "      <td>80s</td>\n",
       "      <td>1900000</td>\n",
       "      <td>1000000</td>\n",
       "      <td>bizarre consider album five consecutive number...</td>\n",
       "      <td>Josh Jackson</td>\n",
       "    </tr>\n",
       "  </tbody>\n",
       "</table>\n",
       "</div>"
      ],
      "text/plain": [
       "                                                  id           artist  \\\n",
       "0  25-the-beatles-sgt-pepper-s-lonely-hearts-club...      The Beatles   \n",
       "1                             24-pink-floyd-the-wall       Pink Floyd   \n",
       "2                             23-michael-jackson-bad  Michael Jackson   \n",
       "\n",
       "                                   album decade  sales_total  sales_us  \\\n",
       "0  Sgt. Pepper’s Lonely Hearts Club Band    60s      1800000   1100000   \n",
       "1                               The Wall    70s      1800000   1100000   \n",
       "2                                    Bad    80s      1900000   1000000   \n",
       "\n",
       "                                         description         author  \n",
       "0  decade defined sweeping cultural paradigm shif...       Max Blau  \n",
       "1  legacy pink floyd cemented dark side moon . wa...  Clint Alwahab  \n",
       "2  bizarre consider album five consecutive number...   Josh Jackson  "
      ]
     },
     "execution_count": 2,
     "metadata": {},
     "output_type": "execute_result"
    }
   ],
   "source": [
    "dataset = pd.read_csv('../data/preprocessed.csv') \n",
    "dataset.head(3)\n"
   ]
  },
  {
   "cell_type": "markdown",
   "metadata": {},
   "source": [
    "### Working with word2vec \n",
    "\n",
    "Word2Vec is a word embedding that maps words to vectors. Ideally the way to calculate similarity would be to use convert words in the descriptions and then obtain the word embeddings for the same. \n",
    "\n",
    "Since word2vec can only give the similarity between two words, the word vectors for the words in the description are averaged out to calculate the cosine similarity. "
   ]
  },
  {
   "cell_type": "code",
   "execution_count": 82,
   "metadata": {},
   "outputs": [],
   "source": [
    "description = list(dataset['description'])\n"
   ]
  },
  {
   "cell_type": "code",
   "execution_count": 83,
   "metadata": {},
   "outputs": [],
   "source": [
    "def tokenize_description(query):\n",
    "    '''\n",
    "    Function takes in query \n",
    "    tokenizes and returns the entire list of strings \n",
    "    '''\n",
    "    word_tokens = word_tokenize(query) \n",
    "    return word_tokens\n"
   ]
  },
  {
   "cell_type": "code",
   "execution_count": 84,
   "metadata": {},
   "outputs": [],
   "source": [
    "'''\n",
    "Creating a word2vec model using the tokenized description of words using CBOW \n",
    "'''\n",
    "tokenized_descriptions = [tokenize_description(sentence) for sentence in description] \n",
    "word2vec = Word2Vec(tokenized_descriptions, min_count = 1, window = 5)"
   ]
  },
  {
   "cell_type": "markdown",
   "metadata": {},
   "source": [
    "Now that a model has been constructed over the corpus that is present within the descriptions, we need to compute average vectors for the sentences in the corpus to assess the similarity between them. \n"
   ]
  },
  {
   "cell_type": "code",
   "execution_count": 85,
   "metadata": {},
   "outputs": [],
   "source": [
    "def compute_avg_vectors(tokenize_description, num_features): \n",
    "    '''\n",
    "    Takes in the tokenized version of the description \n",
    "    Returns the average vector by considering all the words present in the sentence. \n",
    "    '''\n",
    "    vector = np.zeros((num_features,), dtype='float32')\n",
    "    no_of_words = 0 \n",
    "    for word in tokenize_description:\n",
    "        if word in word2vec.wv:\n",
    "            no_of_words+=1\n",
    "            vector = np.add(vector, word2vec.wv[word])\n",
    "        if no_of_words>0:\n",
    "            vector = np.divide(vector, no_of_words)\n",
    "        return vector\n",
    "\n",
    "def cosine_similarity(vec1, vec2):\n",
    "    f = compute_avg_vectors(vec1, 100)\n",
    "    g  = compute_avg_vectors(vec2, 100)\n",
    "    cosine = 1-distance.cosine(f,g) \n",
    "    return cosine \n",
    "    \n",
    "def cosine_similarity_calculator(query):\n",
    "    '''\n",
    "    Function that takes in one query \n",
    "    * Calculates the average vector for the query \n",
    "    * Compares it with the average vectors of all the descriptions. \n",
    "    * returns an array containing the cosine similarity value \n",
    "    '''\n",
    "    cosine_similarity_values = [] \n",
    "    \n",
    "    for i in range(1, len(tokenized_descriptions)):\n",
    "        \n",
    "        cosine_similarity_values.append((cosine_similarity(query, tokenized_descriptions[i]),i))\n",
    "    \n",
    "    return cosine_similarity_values\n",
    "\n"
   ]
  },
  {
   "cell_type": "markdown",
   "metadata": {},
   "source": [
    "#### Calculation of Cosine Similarity using Word2Vec Embeddings\n",
    "\n",
    "Cosine similarity indicates the cosine between the two vectors in space. It's a <b>1</b> if both the vectors are similar and a <b>0</b> if the vectors aren't similar. \n",
    "\n",
    "Nearer 1, indicates more similarity. \n"
   ]
  },
  {
   "cell_type": "code",
   "execution_count": 86,
   "metadata": {},
   "outputs": [
    {
     "name": "stdout",
     "output_type": "stream",
     "text": [
      "Runtime Value for Cosine Similarity Comparisons using Word2Vec:  0.042  seconds\n"
     ]
    }
   ],
   "source": [
    "'''\n",
    "Calculating the cosine similarity or all the descriptions. \n",
    "Time taken for the comparisons and calculations of similarity is measured too \n",
    "'''\n",
    "\n",
    "start = time.time()\n",
    "cosine_similarity_matrix = [] \n",
    "\n",
    "for i in range(len(tokenized_descriptions)):\n",
    "    cosine_similarity_matrix.append(cosine_similarity_calculator(tokenized_descriptions[i]))\n",
    "\n",
    "end = time.time() \n",
    "print(\"Runtime Value for Cosine Similarity Comparisons using Word2Vec: \", round(end-start, 3), ' seconds')"
   ]
  },
  {
   "cell_type": "markdown",
   "metadata": {},
   "source": [
    "This is how the cosine similarity matrix looks like "
   ]
  },
  {
   "cell_type": "code",
   "execution_count": 87,
   "metadata": {},
   "outputs": [
    {
     "data": {
      "text/html": [
       "<div>\n",
       "<style scoped>\n",
       "    .dataframe tbody tr th:only-of-type {\n",
       "        vertical-align: middle;\n",
       "    }\n",
       "\n",
       "    .dataframe tbody tr th {\n",
       "        vertical-align: top;\n",
       "    }\n",
       "\n",
       "    .dataframe thead th {\n",
       "        text-align: right;\n",
       "    }\n",
       "</style>\n",
       "<table border=\"1\" class=\"dataframe\">\n",
       "  <thead>\n",
       "    <tr style=\"text-align: right;\">\n",
       "      <th></th>\n",
       "      <th>0</th>\n",
       "      <th>1</th>\n",
       "      <th>2</th>\n",
       "      <th>3</th>\n",
       "      <th>4</th>\n",
       "      <th>5</th>\n",
       "      <th>6</th>\n",
       "      <th>7</th>\n",
       "      <th>8</th>\n",
       "      <th>9</th>\n",
       "      <th>...</th>\n",
       "      <th>14</th>\n",
       "      <th>15</th>\n",
       "      <th>16</th>\n",
       "      <th>17</th>\n",
       "      <th>18</th>\n",
       "      <th>19</th>\n",
       "      <th>20</th>\n",
       "      <th>21</th>\n",
       "      <th>22</th>\n",
       "      <th>23</th>\n",
       "    </tr>\n",
       "  </thead>\n",
       "  <tbody>\n",
       "    <tr>\n",
       "      <th>0</th>\n",
       "      <td>(0.13970878720283508, 1)</td>\n",
       "      <td>(-0.037503208965063095, 2)</td>\n",
       "      <td>(0.05302009731531143, 3)</td>\n",
       "      <td>(0.06289706379175186, 4)</td>\n",
       "      <td>(-0.014186019077897072, 5)</td>\n",
       "      <td>(0.1128498762845993, 6)</td>\n",
       "      <td>(-0.0609397254884243, 7)</td>\n",
       "      <td>(-0.03531228378415108, 8)</td>\n",
       "      <td>(0.015182177536189556, 9)</td>\n",
       "      <td>(-0.18590465188026428, 10)</td>\n",
       "      <td>...</td>\n",
       "      <td>(0.06984648108482361, 15)</td>\n",
       "      <td>(-0.248823344707489, 16)</td>\n",
       "      <td>(0.07412952929735184, 17)</td>\n",
       "      <td>(-0.04449101909995079, 18)</td>\n",
       "      <td>(-0.174117773771286, 19)</td>\n",
       "      <td>(-0.026812352240085602, 20)</td>\n",
       "      <td>(-0.05553707852959633, 21)</td>\n",
       "      <td>(0.03755660727620125, 22)</td>\n",
       "      <td>(-0.2613500952720642, 23)</td>\n",
       "      <td>(0.06849230080842972, 24)</td>\n",
       "    </tr>\n",
       "    <tr>\n",
       "      <th>1</th>\n",
       "      <td>(1, 1)</td>\n",
       "      <td>(0.02754221111536026, 2)</td>\n",
       "      <td>(-0.029957015067338943, 3)</td>\n",
       "      <td>(-0.27696654200553894, 4)</td>\n",
       "      <td>(-0.05993315577507019, 5)</td>\n",
       "      <td>(-2.1929447029833682e-05, 6)</td>\n",
       "      <td>(-0.028983842581510544, 7)</td>\n",
       "      <td>(-0.05286146700382233, 8)</td>\n",
       "      <td>(0.10397811979055405, 9)</td>\n",
       "      <td>(0.10458412021398544, 10)</td>\n",
       "      <td>...</td>\n",
       "      <td>(0.023049406707286835, 15)</td>\n",
       "      <td>(-0.1958296149969101, 16)</td>\n",
       "      <td>(0.0017322857165709138, 17)</td>\n",
       "      <td>(-0.14578202366828918, 18)</td>\n",
       "      <td>(-0.14239908754825592, 19)</td>\n",
       "      <td>(-0.00846912618726492, 20)</td>\n",
       "      <td>(0.09922327846288681, 21)</td>\n",
       "      <td>(-0.06321217864751816, 22)</td>\n",
       "      <td>(-0.055664703249931335, 23)</td>\n",
       "      <td>(0.1326041966676712, 24)</td>\n",
       "    </tr>\n",
       "    <tr>\n",
       "      <th>2</th>\n",
       "      <td>(0.02754221111536026, 1)</td>\n",
       "      <td>(1, 2)</td>\n",
       "      <td>(-0.03819708153605461, 3)</td>\n",
       "      <td>(-0.08200433850288391, 4)</td>\n",
       "      <td>(-0.03386588394641876, 5)</td>\n",
       "      <td>(0.13592404127120972, 6)</td>\n",
       "      <td>(0.023264823481440544, 7)</td>\n",
       "      <td>(0.001704794936813414, 8)</td>\n",
       "      <td>(-0.003120281035080552, 9)</td>\n",
       "      <td>(0.09831743687391281, 10)</td>\n",
       "      <td>...</td>\n",
       "      <td>(-0.11867132782936096, 15)</td>\n",
       "      <td>(-0.10796932876110077, 16)</td>\n",
       "      <td>(0.07677129656076431, 17)</td>\n",
       "      <td>(0.21501335501670837, 18)</td>\n",
       "      <td>(0.08162051439285278, 19)</td>\n",
       "      <td>(-0.055775709450244904, 20)</td>\n",
       "      <td>(-0.10007375478744507, 21)</td>\n",
       "      <td>(0.018860867246985435, 22)</td>\n",
       "      <td>(0.054054681211709976, 23)</td>\n",
       "      <td>(0.007356402464210987, 24)</td>\n",
       "    </tr>\n",
       "  </tbody>\n",
       "</table>\n",
       "<p>3 rows × 24 columns</p>\n",
       "</div>"
      ],
      "text/plain": [
       "                         0                           1   \\\n",
       "0  (0.13970878720283508, 1)  (-0.037503208965063095, 2)   \n",
       "1                    (1, 1)    (0.02754221111536026, 2)   \n",
       "2  (0.02754221111536026, 1)                      (1, 2)   \n",
       "\n",
       "                           2                          3   \\\n",
       "0    (0.05302009731531143, 3)   (0.06289706379175186, 4)   \n",
       "1  (-0.029957015067338943, 3)  (-0.27696654200553894, 4)   \n",
       "2   (-0.03819708153605461, 3)  (-0.08200433850288391, 4)   \n",
       "\n",
       "                           4                             5   \\\n",
       "0  (-0.014186019077897072, 5)       (0.1128498762845993, 6)   \n",
       "1   (-0.05993315577507019, 5)  (-2.1929447029833682e-05, 6)   \n",
       "2   (-0.03386588394641876, 5)      (0.13592404127120972, 6)   \n",
       "\n",
       "                           6                          7   \\\n",
       "0    (-0.0609397254884243, 7)  (-0.03531228378415108, 8)   \n",
       "1  (-0.028983842581510544, 7)  (-0.05286146700382233, 8)   \n",
       "2   (0.023264823481440544, 7)  (0.001704794936813414, 8)   \n",
       "\n",
       "                           8                           9   ...  \\\n",
       "0   (0.015182177536189556, 9)  (-0.18590465188026428, 10)  ...   \n",
       "1    (0.10397811979055405, 9)   (0.10458412021398544, 10)  ...   \n",
       "2  (-0.003120281035080552, 9)   (0.09831743687391281, 10)  ...   \n",
       "\n",
       "                           14                          15  \\\n",
       "0   (0.06984648108482361, 15)    (-0.248823344707489, 16)   \n",
       "1  (0.023049406707286835, 15)   (-0.1958296149969101, 16)   \n",
       "2  (-0.11867132782936096, 15)  (-0.10796932876110077, 16)   \n",
       "\n",
       "                            16                          17  \\\n",
       "0    (0.07412952929735184, 17)  (-0.04449101909995079, 18)   \n",
       "1  (0.0017322857165709138, 17)  (-0.14578202366828918, 18)   \n",
       "2    (0.07677129656076431, 17)   (0.21501335501670837, 18)   \n",
       "\n",
       "                           18                           19  \\\n",
       "0    (-0.174117773771286, 19)  (-0.026812352240085602, 20)   \n",
       "1  (-0.14239908754825592, 19)   (-0.00846912618726492, 20)   \n",
       "2   (0.08162051439285278, 19)  (-0.055775709450244904, 20)   \n",
       "\n",
       "                           20                          21  \\\n",
       "0  (-0.05553707852959633, 21)   (0.03755660727620125, 22)   \n",
       "1   (0.09922327846288681, 21)  (-0.06321217864751816, 22)   \n",
       "2  (-0.10007375478744507, 21)  (0.018860867246985435, 22)   \n",
       "\n",
       "                            22                          23  \n",
       "0    (-0.2613500952720642, 23)   (0.06849230080842972, 24)  \n",
       "1  (-0.055664703249931335, 23)    (0.1326041966676712, 24)  \n",
       "2   (0.054054681211709976, 23)  (0.007356402464210987, 24)  \n",
       "\n",
       "[3 rows x 24 columns]"
      ]
     },
     "execution_count": 87,
     "metadata": {},
     "output_type": "execute_result"
    }
   ],
   "source": [
    "dataframe = pd.DataFrame(cosine_similarity_matrix)\n",
    "dataframe.head(3) "
   ]
  },
  {
   "cell_type": "markdown",
   "metadata": {},
   "source": [
    "### Analyzing authors and decades\n",
    "\n",
    "Analyzing authors and decade information for the top 3 most similar queries for every description value to calculate a percentage of queries that have this property. "
   ]
  },
  {
   "cell_type": "code",
   "execution_count": 88,
   "metadata": {},
   "outputs": [],
   "source": [
    "def get_top_3(cosine_value_list):\n",
    "    '''\n",
    "    Takes in the cosine similarity value list\n",
    "    Returns the index of the top 3 similar queries\n",
    "    '''\n",
    "    cosine_value_list = sorted(cosine_value_list)\n",
    "    cosine_value_list = cosine_value_list[len(cosine_value_list)-3:]\n",
    "    indices = [ value[1] for value in cosine_value_list]\n",
    "    return indices\n",
    "\n",
    "def check_similar_authors(similar_query_indices):\n",
    "    '''\n",
    "    Takes the indices of the top 3 similar queries\n",
    "    Returns the percentage of similar authors\n",
    "    '''\n",
    "\n",
    "    if dataset.iloc[similar_query_indices[0]].author == dataset.iloc[similar_query_indices[1]].author == dataset.iloc[similar_query_indices[2]].author:\n",
    "        return 3/3 \n",
    "    if dataset.iloc[similar_query_indices[1]].author == dataset.iloc[similar_query_indices[2]].author or dataset.iloc[similar_query_indices[2]].author == dataset.iloc[similar_query_indices[0]].author or dataset.iloc[similar_query_indices[1]].author == dataset.iloc[similar_query_indices[0]].author:\n",
    "        return 2/3\n",
    "    return 0/3\n",
    "    \n",
    "def check_similar_decade(similar_query_indices):\n",
    "    '''\n",
    "    Takes the indices of the top 3 similar queries \n",
    "    Returns the percentage of similar decades\n",
    "    '''\n",
    "  \n",
    "    \n",
    "    if dataset.iloc[similar_query_indices[0]].decade == dataset.iloc[similar_query_indices[1]].decade == dataset.iloc[similar_query_indices[2]].decade:\n",
    "        return 3/3\n",
    "    if dataset.iloc[similar_query_indices[1]].decade == dataset.iloc[similar_query_indices[2]].decade or dataset.iloc[similar_query_indices[2]].decade == dataset.iloc[similar_query_indices[0]].decade or dataset.iloc[similar_query_indices[0]].decade == dataset.iloc[similar_query_indices[1]].decade:\n",
    "        return 2/3\n",
    "  \n",
    "    \n",
    "    return 0/3"
   ]
  },
  {
   "cell_type": "code",
   "execution_count": 89,
   "metadata": {},
   "outputs": [],
   "source": [
    "#Getting the top 3 most similar queries for each description.  \n",
    "get_top_3_indices = [get_top_3(cosine_similarity_matrix[i]) for i in range(len(cosine_similarity_matrix))] \n",
    "\n",
    "#Getting the percentage of same authors  in the top 3 most similar albums (based on description)\n",
    "same_author_percentage = [check_similar_authors(index) for index in get_top_3_indices]\n",
    "\n",
    "#Getting the percentage of same decade for top 3 most similar album (based on description)\n",
    "same_decade_percentage = [check_similar_decade(index) for index in get_top_3_indices]\n",
    "\n",
    " "
   ]
  },
  {
   "cell_type": "markdown",
   "metadata": {},
   "source": [
    "### Visualization of Results of percentage of same decades and authors within top 3 most similar queries\n",
    "\n",
    "##### Histogram to understand the distribution of queries that had 1author similar in the top 3 queries, 2 authors similar in the top 3 queries "
   ]
  },
  {
   "cell_type": "code",
   "execution_count": 94,
   "metadata": {},
   "outputs": [
    {
     "data": {
      "text/plain": [
       "Text(0, 0.5, 'Frequency')"
      ]
     },
     "execution_count": 94,
     "metadata": {},
     "output_type": "execute_result"
    },
    {
     "data": {
      "image/png": "[encoded data removed]",
      "text/plain": [
       "<Figure size 432x288 with 1 Axes>"
      ]
     },
     "metadata": {
      "needs_background": "light"
     },
     "output_type": "display_data"
    }
   ],
   "source": [
    "\n",
    "hplot = sns.distplot(same_author_percentage, kde=False, color='Red', bins=100)\n",
    "plt.title('Percentage of similar authors - Cosine + Word2Vec', fontsize=15)\n",
    "plt.xlabel('Percentage of Similar authors', fontsize=16)\n",
    "plt.ylabel('Frequency' , fontsize=16)"
   ]
  },
  {
   "cell_type": "markdown",
   "metadata": {},
   "source": [
    "> Conclusion: \n",
    "- 13 albums do not have any of the top 3 similar albums sharing any similarity in the authors of the description. \n",
    "- 12 albums have two of the authors being similar between the top 3 most similar album queries. "
   ]
  },
  {
   "cell_type": "markdown",
   "metadata": {},
   "source": [
    "##### Histogram to understand the distribution of queries that had 1 decade similar in the top 3 queries, 2 decades similar in the top 3 queries "
   ]
  },
  {
   "cell_type": "code",
   "execution_count": 95,
   "metadata": {},
   "outputs": [
    {
     "data": {
      "text/plain": [
       "Text(0, 0.5, 'Frequency')"
      ]
     },
     "execution_count": 95,
     "metadata": {},
     "output_type": "execute_result"
    },
    {
     "data": {
      "image/png": "[encoded data removed]",
      "text/plain": [
       "<Figure size 432x288 with 1 Axes>"
      ]
     },
     "metadata": {
      "needs_background": "light"
     },
     "output_type": "display_data"
    }
   ],
   "source": [
    "hplot = sns.distplot(same_decade_percentage, kde=False, color='blue', bins=100)\n",
    "plt.title('Percentage of similar decades - Cosine + Word2Vec', fontsize=18)\n",
    "plt.xlabel('Percentage of Similar decades', fontsize=16)\n",
    "plt.ylabel('Frequency' , fontsize=16)"
   ]
  },
  {
   "cell_type": "markdown",
   "metadata": {},
   "source": [
    "> From the above histogram, it can be observed that \n",
    "- around 11 albums, do not have any similarity in decades between their top 3 most similar albums. \n",
    "- 12 albums have 3 of the top 3 most similar albums having the same decades. \n",
    "- 2 albums have all the top 3 most similar queries having the same decade. \n"
   ]
  },
  {
   "cell_type": "markdown",
   "metadata": {},
   "source": []
  }
 ],
 "metadata": {
  "interpreter": {
   "hash": "5c0a77933101fd243bd6a7dbf88111bea8091c32edc72ba9b5ef86a30d9f8476"
  },
  "kernelspec": {
   "display_name": "Python 3.9.7 ('music-album-similarity')",
   "language": "python",
   "name": "python3"
  },
  "language_info": {
   "codemirror_mode": {
    "name": "ipython",
    "version": 3
   },
   "file_extension": ".py",
   "mimetype": "text/x-python",
   "name": "python",
   "nbconvert_exporter": "python",
   "pygments_lexer": "ipython3",
   "version": "3.9.7"
  },
  "orig_nbformat": 4
 },
 "nbformat": 4,
 "nbformat_minor": 2
}

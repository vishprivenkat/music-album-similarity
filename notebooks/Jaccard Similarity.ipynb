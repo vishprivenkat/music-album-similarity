{
 "cells": [
  {
   "cell_type": "markdown",
   "metadata": {},
   "source": [
    "# Pairwise Query Similarity with Jaccard Similarity\n",
    "\n",
    "The aim of this experiment is to find similar descriptions from the pool of descriptions present to the given input. This can be achieved in many ways and the main four ways experimented here are: \n",
    "\n",
    "        - Calculating Jaccard Similarity between entity classes. \n",
    "        - Using Word2Vec embeddings and Cosine similarity between descriptions \n",
    "        - Using sentence transformers for the caluclation of similarities. \n",
    "\n",
    "- This notebook in particular deals with <b>Jaccard Similarity Analysis</b> \n",
    "\n",
    "- It also contains the description about how many top 3 similar queries have the same decade and author. <b>(Task for the DSTrack)</b>\n",
    "\n",
    "- There is also a runtime measurement that has been done with respect to these queries. \n",
    "\n",
    "\n",
    "\n",
    "\n",
    "\n"
   ]
  },
  {
   "cell_type": "markdown",
   "metadata": {},
   "source": [
    "Importing Libraries necessary"
   ]
  },
  {
   "cell_type": "code",
   "execution_count": 1,
   "metadata": {},
   "outputs": [],
   "source": [
    "import pandas as pd \n",
    "import numpy as np \n",
    "import matplotlib.pyplot as plt \n",
    "import spacy\n",
    "from spacy import displacy\n",
    "from collections import Counter\n",
    "import en_core_web_sm\n",
    "nlp = en_core_web_sm.load()\n",
    "import pickle \n",
    "import time\n",
    "import seaborn as sns\n"
   ]
  },
  {
   "cell_type": "markdown",
   "metadata": {},
   "source": [
    "### The Dataset\n",
    "\n",
    "The Different Attributes in the dataset are: \n",
    "- id : text \n",
    "- Artist : text \n",
    "- Album : text \n",
    "- Decade : text \n",
    "- Sales_total : number \n",
    "- Sales_US : number\n",
    "- <b>Description : Text</b>"
   ]
  },
  {
   "cell_type": "code",
   "execution_count": 2,
   "metadata": {},
   "outputs": [
    {
     "data": {
      "text/html": [
       "<div>\n",
       "<style scoped>\n",
       "    .dataframe tbody tr th:only-of-type {\n",
       "        vertical-align: middle;\n",
       "    }\n",
       "\n",
       "    .dataframe tbody tr th {\n",
       "        vertical-align: top;\n",
       "    }\n",
       "\n",
       "    .dataframe thead th {\n",
       "        text-align: right;\n",
       "    }\n",
       "</style>\n",
       "<table border=\"1\" class=\"dataframe\">\n",
       "  <thead>\n",
       "    <tr style=\"text-align: right;\">\n",
       "      <th></th>\n",
       "      <th>id</th>\n",
       "      <th>artist</th>\n",
       "      <th>album</th>\n",
       "      <th>decade</th>\n",
       "      <th>sales_total</th>\n",
       "      <th>sales_us</th>\n",
       "      <th>description</th>\n",
       "      <th>author</th>\n",
       "    </tr>\n",
       "  </thead>\n",
       "  <tbody>\n",
       "    <tr>\n",
       "      <th>0</th>\n",
       "      <td>25-the-beatles-sgt-pepper-s-lonely-hearts-club...</td>\n",
       "      <td>The Beatles</td>\n",
       "      <td>Sgt. Pepper’s Lonely Hearts Club Band</td>\n",
       "      <td>60s</td>\n",
       "      <td>1800000</td>\n",
       "      <td>1100000</td>\n",
       "      <td>decade defined sweeping cultural paradigm shif...</td>\n",
       "      <td>Max Blau</td>\n",
       "    </tr>\n",
       "    <tr>\n",
       "      <th>1</th>\n",
       "      <td>24-pink-floyd-the-wall</td>\n",
       "      <td>Pink Floyd</td>\n",
       "      <td>The Wall</td>\n",
       "      <td>70s</td>\n",
       "      <td>1800000</td>\n",
       "      <td>1100000</td>\n",
       "      <td>legacy pink floyd cemented dark side moon . wa...</td>\n",
       "      <td>Clint Alwahab</td>\n",
       "    </tr>\n",
       "    <tr>\n",
       "      <th>2</th>\n",
       "      <td>23-michael-jackson-bad</td>\n",
       "      <td>Michael Jackson</td>\n",
       "      <td>Bad</td>\n",
       "      <td>80s</td>\n",
       "      <td>1900000</td>\n",
       "      <td>1000000</td>\n",
       "      <td>bizarre consider album five consecutive number...</td>\n",
       "      <td>Josh Jackson</td>\n",
       "    </tr>\n",
       "  </tbody>\n",
       "</table>\n",
       "</div>"
      ],
      "text/plain": [
       "                                                  id           artist  \\\n",
       "0  25-the-beatles-sgt-pepper-s-lonely-hearts-club...      The Beatles   \n",
       "1                             24-pink-floyd-the-wall       Pink Floyd   \n",
       "2                             23-michael-jackson-bad  Michael Jackson   \n",
       "\n",
       "                                   album decade  sales_total  sales_us  \\\n",
       "0  Sgt. Pepper’s Lonely Hearts Club Band    60s      1800000   1100000   \n",
       "1                               The Wall    70s      1800000   1100000   \n",
       "2                                    Bad    80s      1900000   1000000   \n",
       "\n",
       "                                         description         author  \n",
       "0  decade defined sweeping cultural paradigm shif...       Max Blau  \n",
       "1  legacy pink floyd cemented dark side moon . wa...  Clint Alwahab  \n",
       "2  bizarre consider album five consecutive number...   Josh Jackson  "
      ]
     },
     "execution_count": 2,
     "metadata": {},
     "output_type": "execute_result"
    }
   ],
   "source": [
    "dataset = pd.read_csv('../data/preprocessed.csv') \n",
    "dataset.head(3)\n"
   ]
  },
  {
   "cell_type": "markdown",
   "metadata": {},
   "source": [
    "### Importing the pickled File with the Entity Classes"
   ]
  },
  {
   "cell_type": "code",
   "execution_count": 3,
   "metadata": {},
   "outputs": [],
   "source": [
    "with open('../data/entity_dictionary.pickle', 'rb') as handle:\n",
    "    entity_dictionary = pickle.load(handle)"
   ]
  },
  {
   "cell_type": "markdown",
   "metadata": {},
   "source": [
    "### Extracting Entity_classes, Entity Mentions and descriptions from Entity Description\n",
    "\n",
    "Since the similarity methods require each one of these attributes, entity classes, entity mentions and the description are going to be extracted. \n",
    "\n",
    "\n"
   ]
  },
  {
   "cell_type": "code",
   "execution_count": 142,
   "metadata": {},
   "outputs": [],
   "source": [
    "'''\n",
    "Getting the descriptions, entity_classes for various descriptions. \n",
    "'''\n",
    "description, entity_class = [],[]\n",
    "for key in entity_dictionary:\n",
    "    description.append(key)\n",
    "    entity_class_value = []\n",
    "    for vals in entity_dictionary[key]: \n",
    "        entity_class_value.append(vals[1])\n",
    "    entity_class.append(entity_class_value)\n"
   ]
  },
  {
   "cell_type": "markdown",
   "metadata": {},
   "source": [
    "### Jaccard Similarity Calculation \n",
    "\n",
    "\n",
    "Jaccard Similarity is defined as a fraction of number of common elements between two sets over the total number of elements present in both the sets, and this gives an idea over the sense of similarity between two sets. \n",
    "\n",
    "Jaccard Similarity = (intersection between two sets) / (union of two sets)\n",
    "\n",
    "Range of Value for Jaccard Similarity : 0 to 1.\n",
    "\n",
    "Here, the entity classes between descriptions are going to be taken into consideration while calculating the Jaccard similarity. \n"
   ]
  },
  {
   "cell_type": "code",
   "execution_count": 143,
   "metadata": {},
   "outputs": [],
   "source": [
    "def jaccard_similarity(x, y): \n",
    "    '''\n",
    "    Function for calculating the Jaccard Similarity between two sets \n",
    "    '''\n",
    "    if len(x) <=0 or len(y) <=0: \n",
    "        return -1\n",
    "    x, y = set(x), set(y)\n",
    "    jaccard_similarity_score =round(float(len(x.intersection(y))/len(y.union(x))),2)\n",
    "\n",
    "    return jaccard_similarity_score\n",
    "\n",
    "def get_entity_class(query):\n",
    "    '''\n",
    "    Function that gets the entity class for the given query \n",
    "    '''\n",
    "    doc = nlp(query)\n",
    "    entity_class = [] \n",
    "    if doc.ents:\n",
    "        for entity in doc.ents:\n",
    "            entity_class.append(entity.label_)\n",
    "\n",
    "    return entity_class\n",
    "\n",
    "def jaccard_similarity_calculator(query):\n",
    "    '''\n",
    "    Function that takes in one query\n",
    "    * Calculates the entity classes using spacy \n",
    "    * Compares that with the entity class of the different entity classes present. \n",
    "    \n",
    "    Returns Array with Jaccard similarity values along with the query index \n",
    "    '''\n",
    "    \n",
    "    query_entity_class = get_entity_class(query)\n",
    "    jaccard_similarity_scores = []\n",
    "    #Comparing query with every description's entity class \n",
    "    for i in range(1, len(description)+1): \n",
    "        jaccard_similarity_scores.append((jaccard_similarity(query_entity_class, entity_class[i-1]), i-1))\n",
    "\n",
    "    return jaccard_similarity_scores\n",
    "    \n",
    "    "
   ]
  },
  {
   "cell_type": "code",
   "execution_count": 144,
   "metadata": {},
   "outputs": [
    {
     "name": "stdout",
     "output_type": "stream",
     "text": [
      "Runtime Value for Jaccard Similarity Comparisons:  0.294  seconds\n"
     ]
    }
   ],
   "source": [
    "'''\n",
    "Calculating the Jaccard Similarity for all the descriptions. \n",
    "Time Taken for the comparisons and calculation of similarity is measured too. \n",
    "'''\n",
    "\n",
    "#Jaccard Value Matrix contains the Jaccard Values with every description compared against each other. \n",
    "start = time.time()\n",
    "jaccard_value_matrix = []\n",
    "for i in range(len(description)):\n",
    "    jaccard_value_matrix.append(jaccard_similarity_calculator(description[i]))\n",
    "end = time.time()\n",
    "\n",
    "print(\"Runtime Value for Jaccard Similarity Comparisons: \", round(end-start, 3), ' seconds')\n",
    "    \n"
   ]
  },
  {
   "cell_type": "markdown",
   "metadata": {},
   "source": [
    "This is how the Jaccard Similarity Matrix Looks like. "
   ]
  },
  {
   "cell_type": "code",
   "execution_count": 145,
   "metadata": {},
   "outputs": [
    {
     "data": {
      "text/html": [
       "<div>\n",
       "<style scoped>\n",
       "    .dataframe tbody tr th:only-of-type {\n",
       "        vertical-align: middle;\n",
       "    }\n",
       "\n",
       "    .dataframe tbody tr th {\n",
       "        vertical-align: top;\n",
       "    }\n",
       "\n",
       "    .dataframe thead th {\n",
       "        text-align: right;\n",
       "    }\n",
       "</style>\n",
       "<table border=\"1\" class=\"dataframe\">\n",
       "  <thead>\n",
       "    <tr style=\"text-align: right;\">\n",
       "      <th></th>\n",
       "      <th>0</th>\n",
       "      <th>1</th>\n",
       "      <th>2</th>\n",
       "      <th>3</th>\n",
       "      <th>4</th>\n",
       "      <th>5</th>\n",
       "      <th>6</th>\n",
       "      <th>7</th>\n",
       "      <th>8</th>\n",
       "      <th>9</th>\n",
       "      <th>...</th>\n",
       "      <th>15</th>\n",
       "      <th>16</th>\n",
       "      <th>17</th>\n",
       "      <th>18</th>\n",
       "      <th>19</th>\n",
       "      <th>20</th>\n",
       "      <th>21</th>\n",
       "      <th>22</th>\n",
       "      <th>23</th>\n",
       "      <th>24</th>\n",
       "    </tr>\n",
       "  </thead>\n",
       "  <tbody>\n",
       "    <tr>\n",
       "      <th>0</th>\n",
       "      <td>(1.0, 0)</td>\n",
       "      <td>(0.0, 1)</td>\n",
       "      <td>(0.5, 2)</td>\n",
       "      <td>(0.33, 3)</td>\n",
       "      <td>(0.33, 4)</td>\n",
       "      <td>(0.33, 5)</td>\n",
       "      <td>(0.33, 6)</td>\n",
       "      <td>(0.5, 7)</td>\n",
       "      <td>(0.25, 8)</td>\n",
       "      <td>(0.5, 9)</td>\n",
       "      <td>...</td>\n",
       "      <td>(0.2, 15)</td>\n",
       "      <td>(1.0, 16)</td>\n",
       "      <td>(0.5, 17)</td>\n",
       "      <td>(0.33, 18)</td>\n",
       "      <td>(0.5, 19)</td>\n",
       "      <td>(0.0, 20)</td>\n",
       "      <td>(0.5, 21)</td>\n",
       "      <td>(0.2, 22)</td>\n",
       "      <td>(0.33, 23)</td>\n",
       "      <td>(0.5, 24)</td>\n",
       "    </tr>\n",
       "    <tr>\n",
       "      <th>1</th>\n",
       "      <td>(0.0, 0)</td>\n",
       "      <td>(1.0, 1)</td>\n",
       "      <td>(0.25, 2)</td>\n",
       "      <td>(0.5, 3)</td>\n",
       "      <td>(0.5, 4)</td>\n",
       "      <td>(0.0, 5)</td>\n",
       "      <td>(0.0, 6)</td>\n",
       "      <td>(0.25, 7)</td>\n",
       "      <td>(0.0, 8)</td>\n",
       "      <td>(0.0, 9)</td>\n",
       "      <td>...</td>\n",
       "      <td>(0.25, 15)</td>\n",
       "      <td>(0.0, 16)</td>\n",
       "      <td>(0.25, 17)</td>\n",
       "      <td>(0.5, 18)</td>\n",
       "      <td>(0.25, 19)</td>\n",
       "      <td>(1.0, 20)</td>\n",
       "      <td>(0.0, 21)</td>\n",
       "      <td>(0.25, 22)</td>\n",
       "      <td>(0.5, 23)</td>\n",
       "      <td>(0.0, 24)</td>\n",
       "    </tr>\n",
       "    <tr>\n",
       "      <th>2</th>\n",
       "      <td>(0.5, 0)</td>\n",
       "      <td>(0.25, 1)</td>\n",
       "      <td>(1.0, 2)</td>\n",
       "      <td>(0.5, 3)</td>\n",
       "      <td>(0.5, 4)</td>\n",
       "      <td>(0.2, 5)</td>\n",
       "      <td>(0.2, 6)</td>\n",
       "      <td>(0.6, 7)</td>\n",
       "      <td>(0.4, 8)</td>\n",
       "      <td>(0.25, 9)</td>\n",
       "      <td>...</td>\n",
       "      <td>(0.33, 15)</td>\n",
       "      <td>(0.5, 16)</td>\n",
       "      <td>(0.6, 17)</td>\n",
       "      <td>(0.5, 18)</td>\n",
       "      <td>(1.0, 19)</td>\n",
       "      <td>(0.25, 20)</td>\n",
       "      <td>(0.25, 21)</td>\n",
       "      <td>(0.6, 22)</td>\n",
       "      <td>(0.5, 23)</td>\n",
       "      <td>(0.25, 24)</td>\n",
       "    </tr>\n",
       "  </tbody>\n",
       "</table>\n",
       "<p>3 rows × 25 columns</p>\n",
       "</div>"
      ],
      "text/plain": [
       "         0          1          2          3          4          5          6   \\\n",
       "0  (1.0, 0)   (0.0, 1)   (0.5, 2)  (0.33, 3)  (0.33, 4)  (0.33, 5)  (0.33, 6)   \n",
       "1  (0.0, 0)   (1.0, 1)  (0.25, 2)   (0.5, 3)   (0.5, 4)   (0.0, 5)   (0.0, 6)   \n",
       "2  (0.5, 0)  (0.25, 1)   (1.0, 2)   (0.5, 3)   (0.5, 4)   (0.2, 5)   (0.2, 6)   \n",
       "\n",
       "          7          8          9   ...          15         16          17  \\\n",
       "0   (0.5, 7)  (0.25, 8)   (0.5, 9)  ...   (0.2, 15)  (1.0, 16)   (0.5, 17)   \n",
       "1  (0.25, 7)   (0.0, 8)   (0.0, 9)  ...  (0.25, 15)  (0.0, 16)  (0.25, 17)   \n",
       "2   (0.6, 7)   (0.4, 8)  (0.25, 9)  ...  (0.33, 15)  (0.5, 16)   (0.6, 17)   \n",
       "\n",
       "           18          19          20          21          22          23  \\\n",
       "0  (0.33, 18)   (0.5, 19)   (0.0, 20)   (0.5, 21)   (0.2, 22)  (0.33, 23)   \n",
       "1   (0.5, 18)  (0.25, 19)   (1.0, 20)   (0.0, 21)  (0.25, 22)   (0.5, 23)   \n",
       "2   (0.5, 18)   (1.0, 19)  (0.25, 20)  (0.25, 21)   (0.6, 22)   (0.5, 23)   \n",
       "\n",
       "           24  \n",
       "0   (0.5, 24)  \n",
       "1   (0.0, 24)  \n",
       "2  (0.25, 24)  \n",
       "\n",
       "[3 rows x 25 columns]"
      ]
     },
     "execution_count": 145,
     "metadata": {},
     "output_type": "execute_result"
    }
   ],
   "source": [
    "dataframe = pd.DataFrame(jaccard_value_matrix)\n",
    "dataframe.head(3) "
   ]
  },
  {
   "cell_type": "markdown",
   "metadata": {},
   "source": [
    "### Analyzing authors and decades\n",
    "\n",
    "Analyzing authors and decade information for the top 3 most similar queries for every description value to calculate a percentage of queries that have this property. "
   ]
  },
  {
   "cell_type": "code",
   "execution_count": 146,
   "metadata": {},
   "outputs": [],
   "source": [
    "def get_top_3(jaccard_value_list):\n",
    "    '''\n",
    "    Takes in the jaccard value list\n",
    "    Returns the index of the top 3 similar queries\n",
    "    '''\n",
    "    jaccard_value_list = sorted(jaccard_value_list)\n",
    "    jaccard_value_list = jaccard_value_list[len(jaccard_value_list)-3:]\n",
    "    indices = [ value[1] for value in jaccard_value_list]\n",
    "    return indices\n",
    "\n",
    "def check_similar_authors(similar_query_indices):\n",
    "    '''\n",
    "    Takes the indices of the top 3 similar queries\n",
    "    Returns the percentage of similar authors\n",
    "    '''\n",
    "\n",
    "    if dataset.iloc[similar_query_indices[0]].author == dataset.iloc[similar_query_indices[1]].author == dataset.iloc[similar_query_indices[2]].author:\n",
    "        return 3/3 \n",
    "    if dataset.iloc[similar_query_indices[1]].author == dataset.iloc[similar_query_indices[2]].author or dataset.iloc[similar_query_indices[2]].author == dataset.iloc[similar_query_indices[0]].author or dataset.iloc[similar_query_indices[1]].author == dataset.iloc[similar_query_indices[0]].author:\n",
    "        return 2/3\n",
    "    return 0/3\n",
    "    \n",
    "def check_similar_decade(similar_query_indices):\n",
    "    '''\n",
    "    Takes the indices of the top 3 similar queries \n",
    "    Returns the percentage of similar decades\n",
    "    '''\n",
    "  \n",
    "    \n",
    "    if dataset.iloc[similar_query_indices[0]].decade == dataset.iloc[similar_query_indices[1]].decade == dataset.iloc[similar_query_indices[2]].decade:\n",
    "        return 3/3\n",
    "    if dataset.iloc[similar_query_indices[1]].decade == dataset.iloc[similar_query_indices[2]].decade or dataset.iloc[similar_query_indices[2]].decade == dataset.iloc[similar_query_indices[0]].decade or dataset.iloc[similar_query_indices[0]].decade == dataset.iloc[similar_query_indices[1]].decade:\n",
    "        return 2/3\n",
    "  \n",
    "    \n",
    "    return 0/3\n"
   ]
  },
  {
   "cell_type": "code",
   "execution_count": 147,
   "metadata": {},
   "outputs": [],
   "source": [
    "#Getting the top 3 most similar queries for each description.  \n",
    "get_top_3_indices = [get_top_3(jaccard_value_matrix[i]) for i in range(len(jaccard_value_matrix))] \n",
    "\n",
    "#Getting the percentage of same authors  in the top 3 most similar albums (based on description)\n",
    "same_author_percentage = [check_similar_authors(index) for index in get_top_3_indices]\n",
    "\n",
    "#Getting the percentage of same decade for top 3 most similar album (based on description)\n",
    "same_decade_percentage = [check_similar_decade(index) for index in get_top_3_indices]\n",
    "\n",
    " "
   ]
  },
  {
   "cell_type": "markdown",
   "metadata": {},
   "source": [
    "### Visualization of Results of percentage of same decades and authors within top 3 most similar queries\n",
    "\n",
    "##### Histogram to understand the distribution of queries that had 1author similar in the top 3 queries, 2 authors similar in the top 3 queries "
   ]
  },
  {
   "cell_type": "code",
   "execution_count": 153,
   "metadata": {},
   "outputs": [
    {
     "data": {
      "text/plain": [
       "Text(0, 0.5, 'Frequency')"
      ]
     },
     "execution_count": 153,
     "metadata": {},
     "output_type": "execute_result"
    },
    {
     "data": {
      "image/png": "[encoded data removed]",
      "text/plain": [
       "<Figure size 432x288 with 1 Axes>"
      ]
     },
     "metadata": {
      "needs_background": "light"
     },
     "output_type": "display_data"
    }
   ],
   "source": [
    "\n",
    "hplot = sns.distplot(same_author_percentage, kde=False, color='red', bins=100)\n",
    "plt.title('Percentage of similar authors - Jaccard Similarity', fontsize=15)\n",
    "plt.xlabel('Percentage of Similar authors', fontsize=16)\n",
    "plt.ylabel('Frequency' , fontsize=16)\n"
   ]
  },
  {
   "cell_type": "markdown",
   "metadata": {},
   "source": [
    "> Conclusion: \n",
    "- around 18 queries do not have any of the authors being the same between the top 3 most similar queries \n",
    "- around 7 queries have 2 of the 3 top most similar queries sharing the same author between them"
   ]
  },
  {
   "cell_type": "markdown",
   "metadata": {},
   "source": [
    "##### Histogram to understand the distribution of queries that had 1 decade similar in the top 3 queries, 2 decades similar in the top 3 queries "
   ]
  },
  {
   "cell_type": "code",
   "execution_count": 155,
   "metadata": {},
   "outputs": [
    {
     "data": {
      "text/plain": [
       "Text(0, 0.5, 'Frequency')"
      ]
     },
     "execution_count": 155,
     "metadata": {},
     "output_type": "execute_result"
    },
    {
     "data": {
      "image/png": "[encoded data removed]",
      "text/plain": [
       "<Figure size 432x288 with 1 Axes>"
      ]
     },
     "metadata": {
      "needs_background": "light"
     },
     "output_type": "display_data"
    }
   ],
   "source": [
    "hplot = sns.distplot(same_decade_percentage, kde=False, color='blue', bins=100)\n",
    "plt.title('Percentage of similar decades - Jaccard Similarity', fontsize=18)\n",
    "plt.xlabel('Percentage of Similar decades', fontsize=16)\n",
    "plt.ylabel('Frequency' , fontsize=16)"
   ]
  },
  {
   "cell_type": "markdown",
   "metadata": {},
   "source": [
    "> From the above histogram, it can be observed that \n",
    "- around 9 albums, do not have any similarity in decades in their top 3 most similar albums. \n",
    "- 14 albums have two of the 3 top most similar queries having the same decades. \n",
    "- 2  albums have all the top 3 most similar queries having the same decade. \n"
   ]
  },
  {
   "cell_type": "markdown",
   "metadata": {},
   "source": []
  }
 ],
 "metadata": {
  "interpreter": {
   "hash": "5c0a77933101fd243bd6a7dbf88111bea8091c32edc72ba9b5ef86a30d9f8476"
  },
  "kernelspec": {
   "display_name": "Python 3.9.7 ('music-album-similarity')",
   "language": "python",
   "name": "python3"
  },
  "language_info": {
   "codemirror_mode": {
    "name": "ipython",
    "version": 3
   },
   "file_extension": ".py",
   "mimetype": "text/x-python",
   "name": "python",
   "nbconvert_exporter": "python",
   "pygments_lexer": "ipython3",
   "version": "3.9.7"
  },
  "orig_nbformat": 4
 },
 "nbformat": 4,
 "nbformat_minor": 2
}
